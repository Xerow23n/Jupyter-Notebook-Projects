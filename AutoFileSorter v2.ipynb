{
 "cells": [
  {
   "cell_type": "code",
   "execution_count": 7,
   "id": "cd06c833-c26b-481a-b5cf-da95a7cdcb0c",
   "metadata": {},
   "outputs": [],
   "source": [
    "import os, shutil\n",
    "path = r'C:/Users/User/Documents/New_lyfe/Pytan/'\n",
    "# Get all file names in the specified directory\n",
    "file_names = os.listdir(path)\n",
    "# Initialize a set to hold unique file extensions\n",
    "file_extensions = set()"
   ]
  },
  {
   "cell_type": "code",
   "execution_count": 9,
   "id": "984dfe7f-6ff8-481c-af28-9fd44debc51f",
   "metadata": {},
   "outputs": [],
   "source": [
    "# Populate the set with file extensions (in lowercase to avoid duplicates due to case differences)\n",
    "for file_name in file_names:\n",
    "    if os.path.isfile(os.path.join(path, file_name)):  # Ensure it's a file, not a directory\n",
    "        extension = os.path.splitext(file_name)[1].lower()\n",
    "        if extension:  # Ensure there is an extension\n",
    "            file_extensions.add(extension)\n",
    "\n",
    "\n",
    "# Create folders for each file type if they don't already exist\n",
    "for ext in file_extensions:\n",
    "    folder_name = ext[1:] + \" files\"  # Remove the dot from extension and add ' files'\n",
    "    folder_path = os.path.join(path, folder_name)\n",
    "    if not os.path.exists(folder_path):\n",
    "        os.makedirs(folder_path)\n",
    "\n",
    "# Move files to their respective folders\n",
    "for file_name in file_names:\n",
    "    # Skip directories\n",
    "    if os.path.isdir(os.path.join(path, file_name)):\n",
    "        continue\n",
    "\n",
    "    # Get the file extension and corresponding folder name\n",
    "    file_extension = os.path.splitext(file_name)[1].lower()\n",
    "    if file_extension:\n",
    "        folder_name = file_extension[1:] + \" files\"\n",
    "        target_folder_path = os.path.join(path, folder_name)\n",
    "\n",
    "        # Full path for the file's current location and the target location\n",
    "        current_file_path = os.path.join(path, file_name)\n",
    "        target_file_path = os.path.join(target_folder_path, file_name)\n",
    "        \n",
    "        # Move the file if it's not already in the target folder\n",
    "        if not os.path.exists(target_file_path):\n",
    "            shutil.move(current_file_path, target_file_path)\n",
    "\n",
    "        "
   ]
  },
  {
   "cell_type": "code",
   "execution_count": null,
   "id": "fa56fcf5-0089-4ef4-8f3f-c2c5529457f7",
   "metadata": {},
   "outputs": [],
   "source": [
    "# set() is an empty set\n",
    "# os.path.isfile() - to check whether the specified path is an existing regular file or not\n",
    "# os.path.splitext() - Split the pathname path into a pair\n",
    "# lower() - returns a string where all characters are lower case, symbols and number are ignored\n",
    "# [:] - slicing a list or string\n",
    "# [1:] - removes the first element of a defined variable\n",
    "# os.path.join() - join one or more path segments "
   ]
  },
  {
   "cell_type": "code",
   "execution_count": null,
   "id": "882ea984-3b06-4c9e-aaea-9a6c6abed6c9",
   "metadata": {},
   "outputs": [],
   "source": []
  },
  {
   "cell_type": "code",
   "execution_count": null,
   "id": "6f503a87-3b75-487f-840c-b1bcfcbfcca4",
   "metadata": {},
   "outputs": [],
   "source": []
  },
  {
   "cell_type": "code",
   "execution_count": null,
   "id": "87512251-1d6d-4f81-b338-00c0db201d22",
   "metadata": {},
   "outputs": [],
   "source": []
  },
  {
   "cell_type": "code",
   "execution_count": null,
   "id": "5e8cd758-4f61-451e-9ee0-a04cd3acaaeb",
   "metadata": {},
   "outputs": [],
   "source": []
  },
  {
   "cell_type": "code",
   "execution_count": null,
   "id": "1b30538d-9814-4baa-a3c8-00822b385037",
   "metadata": {},
   "outputs": [],
   "source": []
  },
  {
   "cell_type": "code",
   "execution_count": null,
   "id": "84db4804-5dfe-4a2f-8648-8c7b6a71bf6d",
   "metadata": {},
   "outputs": [],
   "source": []
  },
  {
   "cell_type": "code",
   "execution_count": null,
   "id": "da17e5db-1c7a-490c-8496-b5e41fac4a8d",
   "metadata": {},
   "outputs": [],
   "source": []
  },
  {
   "cell_type": "code",
   "execution_count": null,
   "id": "3dc77a2c-30a0-4a06-9a6f-9de16f81fc23",
   "metadata": {},
   "outputs": [],
   "source": []
  },
  {
   "cell_type": "code",
   "execution_count": null,
   "id": "744c57f7-ec27-474e-8e0d-26af741be851",
   "metadata": {},
   "outputs": [],
   "source": []
  },
  {
   "cell_type": "code",
   "execution_count": null,
   "id": "3afc3f57-13d7-484e-b6a4-6865f77b9956",
   "metadata": {},
   "outputs": [],
   "source": []
  },
  {
   "cell_type": "code",
   "execution_count": null,
   "id": "2a8841e7-b405-4b2f-9b62-4ea8e75024e5",
   "metadata": {},
   "outputs": [],
   "source": []
  },
  {
   "cell_type": "code",
   "execution_count": null,
   "id": "b66ed8b5-8eab-4451-8573-ff7d5fe1d320",
   "metadata": {},
   "outputs": [],
   "source": []
  }
 ],
 "metadata": {
  "kernelspec": {
   "display_name": "Python 3 (ipykernel)",
   "language": "python",
   "name": "python3"
  },
  "language_info": {
   "codemirror_mode": {
    "name": "ipython",
    "version": 3
   },
   "file_extension": ".py",
   "mimetype": "text/x-python",
   "name": "python",
   "nbconvert_exporter": "python",
   "pygments_lexer": "ipython3",
   "version": "3.12.4"
  }
 },
 "nbformat": 4,
 "nbformat_minor": 5
}
