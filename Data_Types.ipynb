{
 "cells": [
  {
   "cell_type": "markdown",
   "id": "01af6192-4d05-47f8-97cd-d33628424acd",
   "metadata": {},
   "source": [
    "DATA TYPES"
   ]
  },
  {
   "cell_type": "code",
   "execution_count": 2,
   "id": "be3e2857-554e-4015-bca8-39a1b7ef878d",
   "metadata": {},
   "outputs": [
    {
     "data": {
      "text/plain": [
       "int"
      ]
     },
     "execution_count": 2,
     "metadata": {},
     "output_type": "execute_result"
    }
   ],
   "source": [
    "type(4)"
   ]
  },
  {
   "cell_type": "code",
   "execution_count": 4,
   "id": "58aeab44-96cd-4253-ac74-196772ab4906",
   "metadata": {},
   "outputs": [
    {
     "data": {
      "text/plain": [
       "int"
      ]
     },
     "execution_count": 4,
     "metadata": {},
     "output_type": "execute_result"
    }
   ],
   "source": [
    "type(-4)"
   ]
  },
  {
   "cell_type": "code",
   "execution_count": 6,
   "id": "530c5a6e-60b5-4dde-b859-7336f1aac9f6",
   "metadata": {},
   "outputs": [
    {
     "data": {
      "text/plain": [
       "int"
      ]
     },
     "execution_count": 6,
     "metadata": {},
     "output_type": "execute_result"
    }
   ],
   "source": [
    "type(-4+200)"
   ]
  },
  {
   "cell_type": "code",
   "execution_count": 8,
   "id": "8de08e7a-b8f9-4dac-b062-f4f1d124ac7e",
   "metadata": {},
   "outputs": [
    {
     "data": {
      "text/plain": [
       "float"
      ]
     },
     "execution_count": 8,
     "metadata": {},
     "output_type": "execute_result"
    }
   ],
   "source": [
    "type(-4+2.4)"
   ]
  },
  {
   "cell_type": "code",
   "execution_count": 16,
   "id": "ed75003e-6735-46fd-90e4-b2ae4a93da63",
   "metadata": {},
   "outputs": [
    {
     "data": {
      "text/plain": [
       "complex"
      ]
     },
     "execution_count": 16,
     "metadata": {},
     "output_type": "execute_result"
    }
   ],
   "source": [
    "#Only j works for complex number in python..?\n",
    "type(-4+2j)"
   ]
  },
  {
   "cell_type": "code",
   "execution_count": 14,
   "id": "78676f92-2372-4523-8c00-de2ec2565f32",
   "metadata": {},
   "outputs": [
    {
     "data": {
      "text/plain": [
       "complex"
      ]
     },
     "execution_count": 14,
     "metadata": {},
     "output_type": "execute_result"
    }
   ],
   "source": [
    "type(4+2j)\n"
   ]
  },
  {
   "cell_type": "code",
   "execution_count": 18,
   "id": "5732dff4-2b7b-4ce8-8622-23fb4ddbcb4d",
   "metadata": {},
   "outputs": [
    {
     "data": {
      "text/plain": [
       "bool"
      ]
     },
     "execution_count": 18,
     "metadata": {},
     "output_type": "execute_result"
    }
   ],
   "source": [
    "type(True)"
   ]
  },
  {
   "cell_type": "code",
   "execution_count": 20,
   "id": "0d474370-6ce4-444f-8071-75831b0dd78d",
   "metadata": {},
   "outputs": [
    {
     "data": {
      "text/plain": [
       "bool"
      ]
     },
     "execution_count": 20,
     "metadata": {},
     "output_type": "execute_result"
    }
   ],
   "source": [
    "type(False)"
   ]
  },
  {
   "cell_type": "code",
   "execution_count": 22,
   "id": "8efa40cc-11e6-4e6d-ada2-dea18887843a",
   "metadata": {},
   "outputs": [
    {
     "data": {
      "text/plain": [
       "bool"
      ]
     },
     "execution_count": 22,
     "metadata": {},
     "output_type": "execute_result"
    }
   ],
   "source": [
    "type(1>5)"
   ]
  },
  {
   "cell_type": "code",
   "execution_count": 24,
   "id": "b2f3e844-0864-45c0-9a88-eecea156ce29",
   "metadata": {},
   "outputs": [
    {
     "data": {
      "text/plain": [
       "False"
      ]
     },
     "execution_count": 24,
     "metadata": {},
     "output_type": "execute_result"
    }
   ],
   "source": [
    "1 > 5"
   ]
  },
  {
   "cell_type": "code",
   "execution_count": 26,
   "id": "56aed7a6-7d72-4a6e-a4a0-bd558c2612ec",
   "metadata": {},
   "outputs": [
    {
     "data": {
      "text/plain": [
       "False"
      ]
     },
     "execution_count": 26,
     "metadata": {},
     "output_type": "execute_result"
    }
   ],
   "source": [
    "1 == 5"
   ]
  },
  {
   "cell_type": "code",
   "execution_count": 28,
   "id": "161d6f31-c95e-4a35-b911-e13ed2f84d44",
   "metadata": {},
   "outputs": [
    {
     "data": {
      "text/plain": [
       "True"
      ]
     },
     "execution_count": 28,
     "metadata": {},
     "output_type": "execute_result"
    }
   ],
   "source": [
    "1 == 1"
   ]
  },
  {
   "cell_type": "code",
   "execution_count": 30,
   "id": "16a883af-ea3b-4948-86e9-6b381915d51b",
   "metadata": {},
   "outputs": [
    {
     "data": {
      "text/plain": [
       "'Mfers'"
      ]
     },
     "execution_count": 30,
     "metadata": {},
     "output_type": "execute_result"
    }
   ],
   "source": [
    "'Mfers'"
   ]
  },
  {
   "cell_type": "code",
   "execution_count": 32,
   "id": "c0a31aff-1255-4937-a381-9941eb1e90db",
   "metadata": {},
   "outputs": [
    {
     "data": {
      "text/plain": [
       "'Mfers'"
      ]
     },
     "execution_count": 32,
     "metadata": {},
     "output_type": "execute_result"
    }
   ],
   "source": [
    "\"Mfers\""
   ]
  },
  {
   "cell_type": "code",
   "execution_count": 55,
   "id": "d3fe112b-0a16-4d39-b000-36b7383b1936",
   "metadata": {},
   "outputs": [
    {
     "name": "stdout",
     "output_type": "stream",
     "text": [
      "\n",
      "Bros before hoes,\n",
      "Your woes maybe many,\n",
      "And your bitches few,\n",
      "Peek for such sick organ,\n",
      "And you will be relish,\n",
      "in the circle of infernos.\n",
      "\n"
     ]
    }
   ],
   "source": [
    "multiline = \"\"\"\n",
    "Bros before hoes,\n",
    "Your woes maybe many,\n",
    "And your bitches few,\n",
    "Peek for such sick organ,\n",
    "And you will be relish,\n",
    "in the circle of infernos.\n",
    "\"\"\"\n",
    "\n",
    "print(multiline)"
   ]
  },
  {
   "cell_type": "code",
   "execution_count": 57,
   "id": "e8e62174-3bf0-46ec-b700-c4d53c445e1a",
   "metadata": {},
   "outputs": [
    {
     "data": {
      "text/plain": [
       "str"
      ]
     },
     "execution_count": 57,
     "metadata": {},
     "output_type": "execute_result"
    }
   ],
   "source": [
    "type(multiline)"
   ]
  },
  {
   "cell_type": "code",
   "execution_count": 59,
   "id": "4be896cc-fa10-4e54-a63a-87126b308d73",
   "metadata": {},
   "outputs": [
    {
     "name": "stdout",
     "output_type": "stream",
     "text": [
      "Hello\n"
     ]
    }
   ],
   "source": [
    "a = 'Hello World'\n",
    "\n",
    "print(a[:5])"
   ]
  },
  {
   "cell_type": "code",
   "execution_count": 61,
   "id": "e0f8c5d2-a72b-4e92-a8c8-cb5d43abcd29",
   "metadata": {},
   "outputs": [
    {
     "name": "stdout",
     "output_type": "stream",
     "text": [
      " \n"
     ]
    }
   ],
   "source": [
    "a = 'Hello World'\n",
    "\n",
    "print(a[5]) #Position 5 is a space, counting from position 0 (H) "
   ]
  },
  {
   "cell_type": "code",
   "execution_count": 63,
   "id": "6cf8dab1-fa60-419e-83cd-c6b66ddb3ad2",
   "metadata": {},
   "outputs": [
    {
     "name": "stdout",
     "output_type": "stream",
     "text": [
      "W\n"
     ]
    }
   ],
   "source": [
    "a = 'Hello World'\n",
    "\n",
    "print(a[6])"
   ]
  },
  {
   "cell_type": "code",
   "execution_count": 65,
   "id": "b518ec29-d31a-4329-a37b-b81ef5be2a01",
   "metadata": {},
   "outputs": [
    {
     "name": "stdout",
     "output_type": "stream",
     "text": [
      "r\n"
     ]
    }
   ],
   "source": [
    "a = 'Hello World'\n",
    "\n",
    "print(a[-3])"
   ]
  },
  {
   "cell_type": "code",
   "execution_count": 67,
   "id": "773d7ca8-3880-4fe1-b44c-046145042acd",
   "metadata": {},
   "outputs": [
    {
     "name": "stdout",
     "output_type": "stream",
     "text": [
      "llo\n"
     ]
    }
   ],
   "source": [
    "a = 'Hello World'\n",
    "\n",
    "print(a[2:5]) #From position 2 to 5"
   ]
  },
  {
   "cell_type": "code",
   "execution_count": 69,
   "id": "51d8abe5-d06a-44eb-bb97-279f6c6fb334",
   "metadata": {},
   "outputs": [
    {
     "name": "stdout",
     "output_type": "stream",
     "text": [
      "Hello WorldHello WorldHello World\n"
     ]
    }
   ],
   "source": [
    "print(a*3)"
   ]
  },
  {
   "cell_type": "code",
   "execution_count": 71,
   "id": "a7047382-a4ec-4f8f-855f-57d79bff3463",
   "metadata": {},
   "outputs": [
    {
     "data": {
      "text/plain": [
       "'Hello WorldHello WorldHello World'"
      ]
     },
     "execution_count": 71,
     "metadata": {},
     "output_type": "execute_result"
    }
   ],
   "source": [
    "a * 3"
   ]
  },
  {
   "cell_type": "code",
   "execution_count": 73,
   "id": "45813561-b71b-4f5a-9ada-ffbaa55d156a",
   "metadata": {},
   "outputs": [
    {
     "data": {
      "text/plain": [
       "'Hello WorldHello World'"
      ]
     },
     "execution_count": 73,
     "metadata": {},
     "output_type": "execute_result"
    }
   ],
   "source": [
    "a + a"
   ]
  },
  {
   "cell_type": "code",
   "execution_count": 75,
   "id": "56322279-021c-4036-98f7-85f936576ad4",
   "metadata": {},
   "outputs": [
    {
     "data": {
      "text/plain": [
       "[1, 2, 3]"
      ]
     },
     "execution_count": 75,
     "metadata": {},
     "output_type": "execute_result"
    }
   ],
   "source": [
    "#List allows all datatypes input\n",
    "\n",
    "[1,2,3]"
   ]
  },
  {
   "cell_type": "code",
   "execution_count": 77,
   "id": "9009ac51-4518-44b7-92ab-1ac68a0e6a85",
   "metadata": {},
   "outputs": [
    {
     "data": {
      "text/plain": [
       "['Succ', 'thicc', 'noot noot mfers']"
      ]
     },
     "execution_count": 77,
     "metadata": {},
     "output_type": "execute_result"
    }
   ],
   "source": [
    "['Succ', 'thicc', 'noot noot mfers']"
   ]
  },
  {
   "cell_type": "code",
   "execution_count": 79,
   "id": "bf2c05a0-9c33-408a-95e7-cf6c31ebca68",
   "metadata": {},
   "outputs": [
    {
     "data": {
      "text/plain": [
       "['Chocolate', 69, ['Succ', 'thicc'], False]"
      ]
     },
     "execution_count": 79,
     "metadata": {},
     "output_type": "execute_result"
    }
   ],
   "source": [
    "['Chocolate', 69, ['Succ', 'thicc'], False]"
   ]
  },
  {
   "cell_type": "code",
   "execution_count": 83,
   "id": "29c175cd-82d2-4d9d-9e85-b4086ea80a36",
   "metadata": {},
   "outputs": [
    {
     "data": {
      "text/plain": [
       "['Succ', 'thicc', 'noot noot mfers', 'sugondeez']"
      ]
     },
     "execution_count": 83,
     "metadata": {},
     "output_type": "execute_result"
    }
   ],
   "source": [
    "Deeznuts = ['Succ', 'thicc', 'noot noot mfers']\n",
    "Deeznuts.append('sugondeez')\n",
    "\n",
    "Deeznuts"
   ]
  },
  {
   "cell_type": "code",
   "execution_count": 85,
   "id": "cb4e94f7-926a-439a-9748-cf77edf66f81",
   "metadata": {},
   "outputs": [
    {
     "data": {
      "text/plain": [
       "['Damn', 'thicc', 'noot noot mfers', 'sugondeez']"
      ]
     },
     "execution_count": 85,
     "metadata": {},
     "output_type": "execute_result"
    }
   ],
   "source": [
    "Deeznuts[0] = 'Damn'\n",
    "\n",
    "Deeznuts"
   ]
  },
  {
   "cell_type": "code",
   "execution_count": 87,
   "id": "994685d5-762f-4511-abae-9a16cafc7dc6",
   "metadata": {},
   "outputs": [
    {
     "data": {
      "text/plain": [
       "['Succ', 'thicc']"
      ]
     },
     "execution_count": 87,
     "metadata": {},
     "output_type": "execute_result"
    }
   ],
   "source": [
    "nest_list = ['Chocolate', 69, ['Succ', 'thicc'], False]\n",
    "\n",
    "nest_list[2]"
   ]
  },
  {
   "cell_type": "code",
   "execution_count": 89,
   "id": "d8205b56-44fa-49c9-8185-aa70b0f1fc44",
   "metadata": {},
   "outputs": [
    {
     "data": {
      "text/plain": [
       "'thicc'"
      ]
     },
     "execution_count": 89,
     "metadata": {},
     "output_type": "execute_result"
    }
   ],
   "source": [
    "nest_list[2][1]"
   ]
  },
  {
   "cell_type": "code",
   "execution_count": 91,
   "id": "b92989da-0049-4f8c-858a-9c00028ddb4f",
   "metadata": {},
   "outputs": [
    {
     "data": {
      "text/plain": [
       "'t'"
      ]
     },
     "execution_count": 91,
     "metadata": {},
     "output_type": "execute_result"
    }
   ],
   "source": [
    "nest_list[2][1][0]"
   ]
  },
  {
   "cell_type": "code",
   "execution_count": 93,
   "id": "99db3401-b556-40dd-89e2-b3d5cc0a8b82",
   "metadata": {},
   "outputs": [
    {
     "data": {
      "text/plain": [
       "tuple"
      ]
     },
     "execution_count": 93,
     "metadata": {},
     "output_type": "execute_result"
    }
   ],
   "source": [
    "#Tuples cannot be modify/append\n",
    "\n",
    "tuple_Scoops = (1,2,3,2,1)\n",
    "\n",
    "type(tuple_Scoops)\n",
    "\n"
   ]
  },
  {
   "cell_type": "code",
   "execution_count": 95,
   "id": "1c5edc4c-56d5-461f-80ee-b362bf2462df",
   "metadata": {},
   "outputs": [
    {
     "data": {
      "text/plain": [
       "1"
      ]
     },
     "execution_count": 95,
     "metadata": {},
     "output_type": "execute_result"
    }
   ],
   "source": [
    "tuple_Scoops[0]"
   ]
  },
  {
   "cell_type": "code",
   "execution_count": 97,
   "id": "83c420f5-d3e8-4504-b23d-bd6c6c735159",
   "metadata": {},
   "outputs": [],
   "source": [
    "# Sets\n",
    "\n",
    "daily_pints = {1,2,3}"
   ]
  },
  {
   "cell_type": "code",
   "execution_count": 99,
   "id": "f03e8c54-460f-4a16-a53e-0506eeb217a5",
   "metadata": {},
   "outputs": [
    {
     "name": "stdout",
     "output_type": "stream",
     "text": [
      "{1, 2, 3}\n"
     ]
    }
   ],
   "source": [
    "print(daily_pints)"
   ]
  },
  {
   "cell_type": "code",
   "execution_count": 101,
   "id": "5e9b1c12-d93c-45ed-a009-8b0ed90044c6",
   "metadata": {},
   "outputs": [
    {
     "data": {
      "text/plain": [
       "set"
      ]
     },
     "execution_count": 101,
     "metadata": {},
     "output_type": "execute_result"
    }
   ],
   "source": [
    "type(daily_pints)"
   ]
  },
  {
   "cell_type": "code",
   "execution_count": 103,
   "id": "3e68c36b-9c20-4597-bec4-9a253d241a98",
   "metadata": {},
   "outputs": [],
   "source": [
    "daily_pints_log = {1,2,31,2,4,5,7,6,8,1,2,3}"
   ]
  },
  {
   "cell_type": "code",
   "execution_count": 105,
   "id": "7443cacf-6c51-4e3d-8d6b-5cf347351911",
   "metadata": {},
   "outputs": [
    {
     "name": "stdout",
     "output_type": "stream",
     "text": [
      "{1, 2, 3, 4, 5, 6, 7, 8, 31}\n"
     ]
    }
   ],
   "source": [
    "print(daily_pints_log)"
   ]
  },
  {
   "cell_type": "code",
   "execution_count": 107,
   "id": "d64660cb-0300-4f87-8937-e7e24c8e2118",
   "metadata": {},
   "outputs": [],
   "source": [
    "daily_pints_log_messer = {1,2,30,2,4,5,7,6,8,9,10,24,22,3,2,1,4}"
   ]
  },
  {
   "cell_type": "code",
   "execution_count": 109,
   "id": "d453248a-50e7-4d55-b8b0-1284bc966f5f",
   "metadata": {},
   "outputs": [
    {
     "name": "stdout",
     "output_type": "stream",
     "text": [
      "{1, 2, 3, 4, 5, 6, 7, 8, 9, 10, 22, 24, 30, 31}\n"
     ]
    }
   ],
   "source": [
    "print(daily_pints_log | daily_pints_log_messer)"
   ]
  },
  {
   "cell_type": "code",
   "execution_count": 111,
   "id": "e1ea477b-951e-4ae0-82b6-698b368233d2",
   "metadata": {},
   "outputs": [
    {
     "name": "stdout",
     "output_type": "stream",
     "text": [
      "{1, 2, 3, 4, 5, 6, 7, 8}\n"
     ]
    }
   ],
   "source": [
    "print(daily_pints_log & daily_pints_log_messer)"
   ]
  },
  {
   "cell_type": "code",
   "execution_count": 113,
   "id": "62bd60fd-d6ab-4986-a0a9-3f8e9b75e7df",
   "metadata": {},
   "outputs": [
    {
     "name": "stdout",
     "output_type": "stream",
     "text": [
      "{31}\n"
     ]
    }
   ],
   "source": [
    "print(daily_pints_log - daily_pints_log_messer)"
   ]
  },
  {
   "cell_type": "code",
   "execution_count": 115,
   "id": "5267a94e-6750-4e1f-82fe-d4e37f853661",
   "metadata": {},
   "outputs": [
    {
     "name": "stdout",
     "output_type": "stream",
     "text": [
      "{9, 10, 22, 24, 30}\n"
     ]
    }
   ],
   "source": [
    "print(daily_pints_log_messer - daily_pints_log)"
   ]
  },
  {
   "cell_type": "code",
   "execution_count": 117,
   "id": "52d8af20-d347-4ff8-90de-08ca78405949",
   "metadata": {},
   "outputs": [
    {
     "name": "stdout",
     "output_type": "stream",
     "text": [
      "{9, 10, 22, 24, 30, 31}\n"
     ]
    }
   ],
   "source": [
    "# ^ means the value that found in one of the sets but not in both sets\n",
    "print(daily_pints_log ^ daily_pints_log_messer)"
   ]
  },
  {
   "cell_type": "code",
   "execution_count": 122,
   "id": "5817c5d9-45f0-4a62-8657-4b848621b2a5",
   "metadata": {},
   "outputs": [
    {
     "data": {
      "text/plain": [
       "dict"
      ]
     },
     "execution_count": 122,
     "metadata": {},
     "output_type": "execute_result"
    }
   ],
   "source": [
    "#Dictionaries\n",
    "# key/value pair = {'key': 'values'}\n",
    "\n",
    "dict_crem = {'name': 'sugondeez', 'weekly intake' : '6', 'favourite ice crems' : ['MCC', 'chocolate','deeznuts']}\n",
    "\n",
    "type(dict_crem)\n"
   ]
  },
  {
   "cell_type": "code",
   "execution_count": 124,
   "id": "9d83f0dd-3fcb-43a8-b3a5-1b7c8ef365fe",
   "metadata": {},
   "outputs": [
    {
     "name": "stdout",
     "output_type": "stream",
     "text": [
      "{'name': 'sugondeez', 'weekly intake': '6', 'favourite ice crems': ['MCC', 'chocolate', 'deeznuts']}\n"
     ]
    }
   ],
   "source": [
    "print(dict_crem)"
   ]
  },
  {
   "cell_type": "code",
   "execution_count": 126,
   "id": "cfccfe88-cd63-4953-826b-d2b6155a9dac",
   "metadata": {},
   "outputs": [
    {
     "data": {
      "text/plain": [
       "dict_values(['sugondeez', '6', ['MCC', 'chocolate', 'deeznuts']])"
      ]
     },
     "execution_count": 126,
     "metadata": {},
     "output_type": "execute_result"
    }
   ],
   "source": [
    "dict_crem.values()"
   ]
  },
  {
   "cell_type": "code",
   "execution_count": 128,
   "id": "4ca6aba4-8e3f-4f37-b3e6-955050fa89be",
   "metadata": {},
   "outputs": [
    {
     "data": {
      "text/plain": [
       "dict_keys(['name', 'weekly intake', 'favourite ice crems'])"
      ]
     },
     "execution_count": 128,
     "metadata": {},
     "output_type": "execute_result"
    }
   ],
   "source": [
    "dict_crem.keys()"
   ]
  },
  {
   "cell_type": "code",
   "execution_count": 130,
   "id": "0272d2d8-c207-4612-bfc4-f6d41ded67e8",
   "metadata": {},
   "outputs": [
    {
     "data": {
      "text/plain": [
       "dict_items([('name', 'sugondeez'), ('weekly intake', '6'), ('favourite ice crems', ['MCC', 'chocolate', 'deeznuts'])])"
      ]
     },
     "execution_count": 130,
     "metadata": {},
     "output_type": "execute_result"
    }
   ],
   "source": [
    "dict_crem.items()"
   ]
  },
  {
   "cell_type": "code",
   "execution_count": 132,
   "id": "485e73d8-3a0c-481c-aac8-a1196bfe17a3",
   "metadata": {},
   "outputs": [
    {
     "data": {
      "text/plain": [
       "'sugondeez'"
      ]
     },
     "execution_count": 132,
     "metadata": {},
     "output_type": "execute_result"
    }
   ],
   "source": [
    "dict_crem['name']"
   ]
  },
  {
   "cell_type": "code",
   "execution_count": 134,
   "id": "d6425f98-82fb-4c86-9cd7-be6b8da59a8e",
   "metadata": {},
   "outputs": [
    {
     "name": "stdout",
     "output_type": "stream",
     "text": [
      "{'name': 'Raiden', 'weekly intake': '6', 'favourite ice crems': ['MCC', 'chocolate', 'deeznuts']}\n"
     ]
    }
   ],
   "source": [
    "dict_crem['name'] = 'Raiden'\n",
    "\n",
    "print(dict_crem)"
   ]
  },
  {
   "cell_type": "code",
   "execution_count": 138,
   "id": "ba5188f2-780a-4f2b-8a99-c9a74060e2eb",
   "metadata": {},
   "outputs": [
    {
     "name": "stdout",
     "output_type": "stream",
     "text": [
      "{'name': 'Raiden', 'weekly intake': '6', 'favourite ice crems': ['MCC', 'chocolate', 'deeznuts'], 'weight': 'like your mom, 500 stones'}\n"
     ]
    }
   ],
   "source": [
    "dict_crem.update({'name': 'Raiden', 'weekly intake': '6', 'weight': 'like your mom, 500 stones'})\n",
    "print(dict_crem)"
   ]
  },
  {
   "cell_type": "code",
   "execution_count": 140,
   "id": "75258956-c889-4393-b82c-5995e89da1cb",
   "metadata": {},
   "outputs": [
    {
     "name": "stdout",
     "output_type": "stream",
     "text": [
      "{'name': 'Raiden', 'weekly intake': '6', 'favourite ice crems': ['MCC', 'chocolate', 'deeznuts']}\n"
     ]
    }
   ],
   "source": [
    "del dict_crem['weight']\n",
    "\n",
    "print(dict_crem)"
   ]
  },
  {
   "cell_type": "code",
   "execution_count": null,
   "id": "d28e9e4b-42fe-4a41-9de9-3b45e2050371",
   "metadata": {},
   "outputs": [],
   "source": []
  }
 ],
 "metadata": {
  "kernelspec": {
   "display_name": "Python 3 (ipykernel)",
   "language": "python",
   "name": "python3"
  },
  "language_info": {
   "codemirror_mode": {
    "name": "ipython",
    "version": 3
   },
   "file_extension": ".py",
   "mimetype": "text/x-python",
   "name": "python",
   "nbconvert_exporter": "python",
   "pygments_lexer": "ipython3",
   "version": "3.12.4"
  }
 },
 "nbformat": 4,
 "nbformat_minor": 5
}
