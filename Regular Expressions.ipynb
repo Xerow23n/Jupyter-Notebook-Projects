{
 "cells": [
  {
   "cell_type": "markdown",
   "id": "3fb1e182-c05d-4946-aa61-78926d189ec9",
   "metadata": {},
   "source": [
    "Regex Method\n"
   ]
  },
  {
   "cell_type": "code",
   "execution_count": null,
   "id": "03f07f8e-2d1a-497d-ba47-4fb8efb4da4e",
   "metadata": {},
   "outputs": [],
   "source": [
    "# findall - returns a list contains all matches \n",
    "# search - returns a match object that matches anywhere in the string\n",
    "# split - returns a list where the string split at each match\n",
    "# sub - replace 1 or many matches with a string "
   ]
  },
  {
   "cell_type": "code",
   "execution_count": 2,
   "id": "f21dfb6b-4b5c-48a5-b4fc-18d852ce1e87",
   "metadata": {},
   "outputs": [],
   "source": [
    "# import regex module\n",
    "import re"
   ]
  },
  {
   "cell_type": "code",
   "execution_count": 22,
   "id": "a34d712f-7c0b-4d25-9770-b312ab250909",
   "metadata": {},
   "outputs": [],
   "source": [
    "quote = \"The only thing I know for real, There will be Bloodshed. the man in the mirror nods his head, the only one left will ride upon the dragon's back. -- Jamie Christopherson\"\n"
   ]
  },
  {
   "cell_type": "code",
   "execution_count": 6,
   "id": "7905531d-8687-467f-a8c2-fd3bde8c027e",
   "metadata": {},
   "outputs": [
    {
     "data": {
      "text/plain": [
       "<re.Match object; span=(4, 8), match='only'>"
      ]
     },
     "execution_count": 6,
     "metadata": {},
     "output_type": "execute_result"
    }
   ],
   "source": [
    "#searched only the first result\n",
    "re.search('only', quote)"
   ]
  },
  {
   "cell_type": "code",
   "execution_count": 8,
   "id": "2a942cb7-d4e5-4343-b5f3-d0337f38294c",
   "metadata": {},
   "outputs": [
    {
     "data": {
      "text/plain": [
       "'only'"
      ]
     },
     "execution_count": 8,
     "metadata": {},
     "output_type": "execute_result"
    }
   ],
   "source": [
    "re.search('only', quote).group()"
   ]
  },
  {
   "cell_type": "code",
   "execution_count": 10,
   "id": "cc122192-74b6-44ff-a698-dc0a416d0b47",
   "metadata": {},
   "outputs": [
    {
     "data": {
      "text/plain": [
       "['only', 'only']"
      ]
     },
     "execution_count": 10,
     "metadata": {},
     "output_type": "execute_result"
    }
   ],
   "source": [
    "re.findall('only', quote)"
   ]
  },
  {
   "cell_type": "code",
   "execution_count": 12,
   "id": "6bbef08c-b51e-434a-b8e6-fc4f533e8dc0",
   "metadata": {},
   "outputs": [
    {
     "data": {
      "text/plain": [
       "2"
      ]
     },
     "execution_count": 12,
     "metadata": {},
     "output_type": "execute_result"
    }
   ],
   "source": [
    "len(re.findall('only', quote))"
   ]
  },
  {
   "cell_type": "code",
   "execution_count": 14,
   "id": "d3ce0900-6437-45cd-9fd9-b72b16eafb2d",
   "metadata": {},
   "outputs": [
    {
     "data": {
      "text/plain": [
       "['The ',\n",
       " ' thing I know for real, There will be Bloodshed, the man in the mirror nods his head, the ',\n",
       " \" one left will ride upon the dragon's back. -- Jamie Christopherson\"]"
      ]
     },
     "execution_count": 14,
     "metadata": {},
     "output_type": "execute_result"
    }
   ],
   "source": [
    "re.split('only', quote)"
   ]
  },
  {
   "cell_type": "code",
   "execution_count": 16,
   "id": "085352ac-22cf-46c5-9065-e37b322c3e4c",
   "metadata": {},
   "outputs": [
    {
     "data": {
      "text/plain": [
       "['',\n",
       " '',\n",
       " '',\n",
       " '',\n",
       " '',\n",
       " '',\n",
       " '',\n",
       " '',\n",
       " '',\n",
       " '',\n",
       " '',\n",
       " '',\n",
       " '',\n",
       " '',\n",
       " '',\n",
       " '',\n",
       " '',\n",
       " '',\n",
       " '',\n",
       " '',\n",
       " '',\n",
       " '',\n",
       " '',\n",
       " '',\n",
       " '',\n",
       " '',\n",
       " '',\n",
       " '',\n",
       " '',\n",
       " '',\n",
       " '',\n",
       " '',\n",
       " '',\n",
       " '',\n",
       " '',\n",
       " '',\n",
       " '',\n",
       " '',\n",
       " '',\n",
       " '',\n",
       " '',\n",
       " '',\n",
       " '',\n",
       " '',\n",
       " '',\n",
       " '',\n",
       " '',\n",
       " '',\n",
       " '',\n",
       " '',\n",
       " '',\n",
       " '',\n",
       " '',\n",
       " '',\n",
       " '',\n",
       " '',\n",
       " '',\n",
       " '',\n",
       " '',\n",
       " '',\n",
       " '',\n",
       " '',\n",
       " '',\n",
       " '',\n",
       " '',\n",
       " '',\n",
       " '',\n",
       " '',\n",
       " '',\n",
       " '',\n",
       " '',\n",
       " '',\n",
       " '',\n",
       " '',\n",
       " '',\n",
       " '',\n",
       " '',\n",
       " '',\n",
       " '',\n",
       " '',\n",
       " '',\n",
       " '',\n",
       " '',\n",
       " '',\n",
       " '',\n",
       " '',\n",
       " '',\n",
       " '',\n",
       " '',\n",
       " '',\n",
       " '',\n",
       " '',\n",
       " '',\n",
       " '',\n",
       " '',\n",
       " '',\n",
       " '',\n",
       " '',\n",
       " '',\n",
       " '',\n",
       " '',\n",
       " '',\n",
       " '',\n",
       " '',\n",
       " '',\n",
       " '',\n",
       " '',\n",
       " '',\n",
       " '',\n",
       " '',\n",
       " '',\n",
       " '',\n",
       " '',\n",
       " '',\n",
       " '',\n",
       " '',\n",
       " '',\n",
       " '',\n",
       " '',\n",
       " '',\n",
       " '',\n",
       " '',\n",
       " '',\n",
       " '',\n",
       " '',\n",
       " '',\n",
       " '',\n",
       " '',\n",
       " '',\n",
       " '',\n",
       " '',\n",
       " '',\n",
       " '',\n",
       " '',\n",
       " '',\n",
       " '',\n",
       " '',\n",
       " '',\n",
       " '',\n",
       " '',\n",
       " '',\n",
       " '',\n",
       " '',\n",
       " '',\n",
       " '',\n",
       " '',\n",
       " '',\n",
       " '',\n",
       " '',\n",
       " '',\n",
       " '',\n",
       " '',\n",
       " '',\n",
       " '',\n",
       " '',\n",
       " '',\n",
       " '',\n",
       " '',\n",
       " '',\n",
       " '',\n",
       " '',\n",
       " '',\n",
       " '',\n",
       " '',\n",
       " '',\n",
       " '',\n",
       " '',\n",
       " '',\n",
       " '',\n",
       " '']"
      ]
     },
     "execution_count": 16,
     "metadata": {},
     "output_type": "execute_result"
    }
   ],
   "source": [
    "re.split('.', quote)"
   ]
  },
  {
   "cell_type": "code",
   "execution_count": 34,
   "id": "4e008028-cb4a-4adc-bc4f-ea35f1c6ccce",
   "metadata": {},
   "outputs": [
    {
     "data": {
      "text/plain": [
       "['The only thing I know for real, There will be Bloodshed',\n",
       " \" the man in the mirror nods his head, the only one left will ride upon the dragon's back\",\n",
       " ' -- Jamie Christopherson']"
      ]
     },
     "execution_count": 34,
     "metadata": {},
     "output_type": "execute_result"
    }
   ],
   "source": [
    "re.split('\\\\.', quote)"
   ]
  },
  {
   "cell_type": "code",
   "execution_count": 36,
   "id": "19297d11-2bf3-4737-9806-0fea35b9d3a5",
   "metadata": {},
   "outputs": [
    {
     "data": {
      "text/plain": [
       "\"The only thing You know for real, There will be Bloodshed. the man in the mirror nods his head, the only one left will ride upon the dragon's back. -- Jamie Christopherson\""
      ]
     },
     "execution_count": 36,
     "metadata": {},
     "output_type": "execute_result"
    }
   ],
   "source": [
    "re.sub('I', 'You', quote)"
   ]
  },
  {
   "cell_type": "code",
   "execution_count": 38,
   "id": "d46965dc-c0f7-4a62-bf6c-54c75bf613f0",
   "metadata": {},
   "outputs": [
    {
     "data": {
      "text/plain": [
       "\"The main thing I know for real, There will be Bloodshed. the man in the mirror nods his head, the main one left will ride upon the dragon's back. -- Jamie Christopherson\""
      ]
     },
     "execution_count": 38,
     "metadata": {},
     "output_type": "execute_result"
    }
   ],
   "source": [
    "re.sub('only', 'main', quote)"
   ]
  },
  {
   "cell_type": "code",
   "execution_count": 40,
   "id": "5bee923d-4910-4785-bd30-9c82d776898e",
   "metadata": {},
   "outputs": [
    {
     "data": {
      "text/plain": [
       "\"The main thing I know for real, There will be Bloodshed. the man in the mirror nods his head, the only one left will ride upon the dragon's back. -- Jamie Christopherson\""
      ]
     },
     "execution_count": 40,
     "metadata": {},
     "output_type": "execute_result"
    }
   ],
   "source": [
    "re.sub('only', 'main', quote, count = 1)"
   ]
  },
  {
   "cell_type": "code",
   "execution_count": 42,
   "id": "4f8b7643-aaff-4d7d-aa1e-0035235e942d",
   "metadata": {},
   "outputs": [
    {
     "data": {
      "text/plain": [
       "\"The main thing I know for real, There will be Bloodshed. the man in the mirror nods his head, the only one left will ride upon the dragon's back. -- Jamie Christopherson\""
      ]
     },
     "execution_count": 42,
     "metadata": {},
     "output_type": "execute_result"
    }
   ],
   "source": [
    "re.sub('only', 'main', quote, 1)"
   ]
  },
  {
   "cell_type": "code",
   "execution_count": null,
   "id": "ee3d9cd9-ce53-4640-9e08-b1e18cd508b0",
   "metadata": {},
   "outputs": [],
   "source": []
  },
  {
   "cell_type": "markdown",
   "id": "520150a9-98d2-4887-b71e-2b6629fd861a",
   "metadata": {},
   "source": [
    "Regex Metacharacters"
   ]
  },
  {
   "attachments": {
    "9df0a1b7-e0fd-48c0-a1b6-8ad32c2af2c2.png": {
     "image/png": "[encoded data removed]"
    }
   },
   "cell_type": "markdown",
   "id": "fffbd5aa-59be-40d5-a500-346c84905818",
   "metadata": {},
   "source": [
    "![Screenshot 2024-08-31 110724.png](attachment:9df0a1b7-e0fd-48c0-a1b6-8ad32c2af2c2.png)"
   ]
  },
  {
   "cell_type": "code",
   "execution_count": 60,
   "id": "a2c562ec-dff9-4eee-a06b-038233287509",
   "metadata": {},
   "outputs": [
    {
     "data": {
      "text/plain": [
       "[]"
      ]
     },
     "execution_count": 60,
     "metadata": {},
     "output_type": "execute_result"
    }
   ],
   "source": [
    "string = 'Washed away the anger. 78563215984'\n",
    "\n",
    "re.findall('a-m', string)"
   ]
  },
  {
   "cell_type": "code",
   "execution_count": 52,
   "id": "7e2f2da9-6d6e-4617-92bf-baedb59def46",
   "metadata": {},
   "outputs": [
    {
     "data": {
      "text/plain": [
       "['a', 'h', 'e', 'd', 'a', 'a', 'h', 'e', 'a', 'g', 'e']"
      ]
     },
     "execution_count": 52,
     "metadata": {},
     "output_type": "execute_result"
    }
   ],
   "source": [
    "re.findall('[a-m]', string)"
   ]
  },
  {
   "cell_type": "code",
   "execution_count": 54,
   "id": "4fba9950-79f2-447e-a836-81c97908886b",
   "metadata": {},
   "outputs": [
    {
     "data": {
      "text/plain": [
       "['W',\n",
       " 'a',\n",
       " 's',\n",
       " 'h',\n",
       " 'e',\n",
       " 'd',\n",
       " 'a',\n",
       " 'w',\n",
       " 'a',\n",
       " 'y',\n",
       " 't',\n",
       " 'h',\n",
       " 'e',\n",
       " 'a',\n",
       " 'n',\n",
       " 'g',\n",
       " 'e',\n",
       " 'r']"
      ]
     },
     "execution_count": 54,
     "metadata": {},
     "output_type": "execute_result"
    }
   ],
   "source": [
    "#including capital letters\n",
    "re.findall('[a-zA-Z]', string)"
   ]
  },
  {
   "cell_type": "code",
   "execution_count": 56,
   "id": "dfa18fd4-a5ec-465b-9a39-649fb54f338c",
   "metadata": {},
   "outputs": [
    {
     "data": {
      "text/plain": [
       "['W',\n",
       " 'a',\n",
       " 's',\n",
       " 'h',\n",
       " 'e',\n",
       " 'd',\n",
       " 'a',\n",
       " 'w',\n",
       " 'a',\n",
       " 'y',\n",
       " 't',\n",
       " 'h',\n",
       " 'e',\n",
       " 'a',\n",
       " 'n',\n",
       " 'g',\n",
       " 'e',\n",
       " 'r']"
      ]
     },
     "execution_count": 56,
     "metadata": {},
     "output_type": "execute_result"
    }
   ],
   "source": [
    "re.findall('[a-zA-Z]', string)"
   ]
  },
  {
   "cell_type": "code",
   "execution_count": 62,
   "id": "0d8947d1-8a57-49a8-8fbb-9279d7f2c5ed",
   "metadata": {},
   "outputs": [
    {
     "data": {
      "text/plain": [
       "['W',\n",
       " 'a',\n",
       " 's',\n",
       " 'h',\n",
       " 'e',\n",
       " 'd',\n",
       " 'a',\n",
       " 'w',\n",
       " 'a',\n",
       " 'y',\n",
       " 't',\n",
       " 'h',\n",
       " 'e',\n",
       " 'a',\n",
       " 'n',\n",
       " 'g',\n",
       " 'e',\n",
       " 'r',\n",
       " '7',\n",
       " '8',\n",
       " '5',\n",
       " '6',\n",
       " '3',\n",
       " '2',\n",
       " '1',\n",
       " '5',\n",
       " '9',\n",
       " '8',\n",
       " '4']"
      ]
     },
     "execution_count": 62,
     "metadata": {},
     "output_type": "execute_result"
    }
   ],
   "source": [
    "re.findall('[a-zA-Z0-9]', string)"
   ]
  },
  {
   "cell_type": "code",
   "execution_count": 64,
   "id": "f5379859-f717-4eea-b5a2-b430164b7cc9",
   "metadata": {},
   "outputs": [
    {
     "data": {
      "text/plain": [
       "['2']"
      ]
     },
     "execution_count": 64,
     "metadata": {},
     "output_type": "execute_result"
    }
   ],
   "source": [
    "string = 'There are 28 stab wounds'\n",
    "\n",
    "re.findall('[0-4]', string)"
   ]
  },
  {
   "cell_type": "code",
   "execution_count": 74,
   "id": "4b0ba105-9db4-4884-a352-9fa3fe4a58fd",
   "metadata": {},
   "outputs": [
    {
     "data": {
      "text/plain": [
       "['F',\n",
       " 'u',\n",
       " 'k',\n",
       " ' ',\n",
       " 'd',\n",
       " 'a',\n",
       " ' ',\n",
       " 'p',\n",
       " 'u',\n",
       " 's',\n",
       " 'i',\n",
       " ' ',\n",
       " 's',\n",
       " 't',\n",
       " 'r',\n",
       " 'a',\n",
       " 'i',\n",
       " 'g',\n",
       " 'h',\n",
       " 't',\n",
       " ' ',\n",
       " 't',\n",
       " 'o',\n",
       " ' ',\n",
       " 't',\n",
       " 'h',\n",
       " 'e',\n",
       " ' ',\n",
       " 'u',\n",
       " 'n',\n",
       " 'd',\n",
       " 'e',\n",
       " 'r',\n",
       " 'g',\n",
       " 'r',\n",
       " 'o',\n",
       " 'u',\n",
       " 'n',\n",
       " 'd',\n",
       " '.']"
      ]
     },
     "execution_count": 74,
     "metadata": {},
     "output_type": "execute_result"
    }
   ],
   "source": [
    "string = 'Fuk da pusi straight to the underground.'\n",
    "\n",
    "re.findall('.', string)"
   ]
  },
  {
   "cell_type": "code",
   "execution_count": 82,
   "id": "13463209-9f3a-4bc3-8c08-dc49bbeff227",
   "metadata": {},
   "outputs": [
    {
     "data": {
      "text/plain": [
       "['Fuk']"
      ]
     },
     "execution_count": 82,
     "metadata": {},
     "output_type": "execute_result"
    }
   ],
   "source": [
    "re.findall('F.k', string)"
   ]
  },
  {
   "cell_type": "code",
   "execution_count": 84,
   "id": "c7bbe412-6a1e-48fa-88c3-b1521cd683ab",
   "metadata": {},
   "outputs": [
    {
     "data": {
      "text/plain": [
       "['straight']"
      ]
     },
     "execution_count": 84,
     "metadata": {},
     "output_type": "execute_result"
    }
   ],
   "source": [
    "re.findall('s.{6}t', string)"
   ]
  },
  {
   "cell_type": "code",
   "execution_count": 90,
   "id": "4915ee70-072a-45e7-981c-e99a5d190b51",
   "metadata": {},
   "outputs": [
    {
     "data": {
      "text/plain": [
       "['Well', 'Wiil']"
      ]
     },
     "execution_count": 90,
     "metadata": {},
     "output_type": "execute_result"
    }
   ],
   "source": [
    "sentence = \"Well well well....If it isn't sussy Wiil jack.\"\n",
    "\n",
    "re.findall('W.{2}l',sentence)"
   ]
  },
  {
   "cell_type": "code",
   "execution_count": 92,
   "id": "97b84380-50db-45f3-bc4d-7c2fcd11c0bf",
   "metadata": {},
   "outputs": [
    {
     "data": {
      "text/plain": [
       "['Happi']"
      ]
     },
     "execution_count": 92,
     "metadata": {},
     "output_type": "execute_result"
    }
   ],
   "source": [
    "quoet = \"Happi Happi Happi, this is happi cat dancin, may you be blessed by this happi cat.\"\n",
    "\n",
    "re.findall('^Happi',quoet)"
   ]
  },
  {
   "cell_type": "code",
   "execution_count": 94,
   "id": "eee9c85e-4e8e-4263-872e-31fc091766aa",
   "metadata": {},
   "outputs": [
    {
     "data": {
      "text/plain": [
       "[]"
      ]
     },
     "execution_count": 94,
     "metadata": {},
     "output_type": "execute_result"
    }
   ],
   "source": [
    "# ^ - Beginning of the string\n",
    "re.findall('Happi^',quoet)"
   ]
  },
  {
   "cell_type": "code",
   "execution_count": 98,
   "id": "193147f1-2e03-45a6-86d9-937607e3ac9c",
   "metadata": {},
   "outputs": [
    {
     "data": {
      "text/plain": [
       "['cat.']"
      ]
     },
     "execution_count": 98,
     "metadata": {},
     "output_type": "execute_result"
    }
   ],
   "source": [
    "# $ - End of the string\n",
    "re.findall('cat.$',quoet)"
   ]
  },
  {
   "cell_type": "code",
   "execution_count": null,
   "id": "d550eb0e-f8de-4802-9597-cb7e7bbf3afe",
   "metadata": {},
   "outputs": [],
   "source": [
    "# * - 0 or more\n",
    "# + - 1 or more\n",
    "# ? - 0 or 1"
   ]
  },
  {
   "cell_type": "code",
   "execution_count": 112,
   "id": "9d5f1829-5124-4857-a4eb-7cb15532183c",
   "metadata": {},
   "outputs": [
    {
     "data": {
      "text/plain": [
       "['This Thing is called a Thimble has Thrice hurt me']"
      ]
     },
     "execution_count": 112,
     "metadata": {},
     "output_type": "execute_result"
    }
   ],
   "source": [
    "strin = \"This Thing is called a Thimble has Thrice hurt me\"\n",
    "strin2 = \"This Thing called a Thimble had Thrice hurt me\"\n",
    "re.findall('Thi.*',strin)"
   ]
  },
  {
   "cell_type": "code",
   "execution_count": 104,
   "id": "b327ad7b-fbf6-4d2d-956d-9ef8753b3aa8",
   "metadata": {},
   "outputs": [
    {
     "data": {
      "text/plain": [
       "['This Thing is called a Thimble has']"
      ]
     },
     "execution_count": 104,
     "metadata": {},
     "output_type": "execute_result"
    }
   ],
   "source": [
    "re.findall('Thi.*s',strin)"
   ]
  },
  {
   "cell_type": "code",
   "execution_count": 114,
   "id": "5db8c9f8-aa6e-4bb6-ace1-3907f45edcc6",
   "metadata": {},
   "outputs": [
    {
     "data": {
      "text/plain": [
       "['This']"
      ]
     },
     "execution_count": 114,
     "metadata": {},
     "output_type": "execute_result"
    }
   ],
   "source": [
    "# 0 chara is counted when using *\n",
    "re.findall('Thi.*s',strin2)"
   ]
  },
  {
   "cell_type": "code",
   "execution_count": 116,
   "id": "38b8fba0-cb4e-4be7-b9fa-dea087bee5b8",
   "metadata": {},
   "outputs": [
    {
     "data": {
      "text/plain": [
       "[]"
      ]
     },
     "execution_count": 116,
     "metadata": {},
     "output_type": "execute_result"
    }
   ],
   "source": [
    "re.findall('Thi.+s',strin2)"
   ]
  },
  {
   "cell_type": "code",
   "execution_count": 118,
   "id": "91d9a674-5da0-4f90-989b-ee7c8eb6bd3a",
   "metadata": {},
   "outputs": [
    {
     "data": {
      "text/plain": [
       "['This']"
      ]
     },
     "execution_count": 118,
     "metadata": {},
     "output_type": "execute_result"
    }
   ],
   "source": [
    "re.findall('Thi.?s',strin2)"
   ]
  },
  {
   "cell_type": "code",
   "execution_count": 120,
   "id": "703acba7-155f-45f3-b8e7-d48754fa1d06",
   "metadata": {},
   "outputs": [
    {
     "data": {
      "text/plain": [
       "[]"
      ]
     },
     "execution_count": 120,
     "metadata": {},
     "output_type": "execute_result"
    }
   ],
   "source": [
    "re.findall('Thi.?e',strin2)"
   ]
  },
  {
   "cell_type": "code",
   "execution_count": 126,
   "id": "b6eb5abc-0a25-46a2-8fec-722a66a2a458",
   "metadata": {},
   "outputs": [
    {
     "data": {
      "text/plain": [
       "['Thimble']"
      ]
     },
     "execution_count": 126,
     "metadata": {},
     "output_type": "execute_result"
    }
   ],
   "source": [
    "re.findall('Thi.{3}?e',strin2)"
   ]
  },
  {
   "cell_type": "code",
   "execution_count": 136,
   "id": "5abccd1a-9b59-4c0d-95fc-416cc76ce9f5",
   "metadata": {},
   "outputs": [
    {
     "data": {
      "text/plain": [
       "['Free', 'religion']"
      ]
     },
     "execution_count": 136,
     "metadata": {},
     "output_type": "execute_result"
    }
   ],
   "source": [
    "# | - either or\n",
    "\n",
    "joke = \"Free will is a myth, religion is a joke. We are pawns of something greater, Memes. The DNA of the soul. Our Culture our cult!\"\n",
    "\n",
    "re.findall('Free|religion',joke)"
   ]
  },
  {
   "cell_type": "code",
   "execution_count": 130,
   "id": "11e57fc2-f8da-4d54-a870-4bc07e52a71e",
   "metadata": {},
   "outputs": [
    {
     "data": {
      "text/plain": [
       "['Memes']"
      ]
     },
     "execution_count": 130,
     "metadata": {},
     "output_type": "execute_result"
    }
   ],
   "source": [
    "re.findall('full of shit|Memes',joke)"
   ]
  },
  {
   "cell_type": "code",
   "execution_count": 138,
   "id": "3e05d4b5-53ef-453c-82fb-9e3cc4a89bd3",
   "metadata": {},
   "outputs": [
    {
     "data": {
      "text/plain": [
       "['.', '.', '.']"
      ]
     },
     "execution_count": 138,
     "metadata": {},
     "output_type": "execute_result"
    }
   ],
   "source": [
    "re.findall('\\\\.',joke)"
   ]
  },
  {
   "cell_type": "code",
   "execution_count": 140,
   "id": "5c2e1977-f2f1-426c-b33f-8145030be451",
   "metadata": {},
   "outputs": [
    {
     "data": {
      "text/plain": [
       "['!']"
      ]
     },
     "execution_count": 140,
     "metadata": {},
     "output_type": "execute_result"
    }
   ],
   "source": [
    "re.findall('\\\\!',joke)"
   ]
  },
  {
   "cell_type": "code",
   "execution_count": null,
   "id": "e1ce48c7-80e2-4671-84c9-b638529a5a44",
   "metadata": {},
   "outputs": [],
   "source": []
  },
  {
   "cell_type": "markdown",
   "id": "a420fbd2-1606-4a48-b17c-ff8b711ffab2",
   "metadata": {},
   "source": [
    "Regex Character Class"
   ]
  },
  {
   "attachments": {
    "d2a85880-6509-4c07-ac29-a05e163d50a3.png": {
     "image/png": "[encoded data removed]"
    }
   },
   "cell_type": "markdown",
   "id": "e48db02e-92f9-4556-9b2b-530cf67cad1f",
   "metadata": {},
   "source": [
    "![Alex The Analyst - Regular Expression Character Classes in Python [9NB5u17qiDY - 988x556 - 0m02s].png](attachment:d2a85880-6509-4c07-ac29-a05e163d50a3.png)"
   ]
  },
  {
   "cell_type": "code",
   "execution_count": 146,
   "id": "589bec76-8798-401d-b146-d2a221d4dfdb",
   "metadata": {},
   "outputs": [
    {
     "data": {
      "text/plain": [
       "['4', '2', '0', '6', '6', '9', '8', '9', '6', '4', '6', '9']"
      ]
     },
     "execution_count": 146,
     "metadata": {},
     "output_type": "execute_result"
    }
   ],
   "source": [
    "quote = \"My name is George. Ma phoone numba iz 420-669-8964. My email is noobmaster69@gmail.com\"\n",
    "\n",
    "re.findall('\\\\d',quote)"
   ]
  },
  {
   "cell_type": "code",
   "execution_count": 148,
   "id": "539b671b-364c-4eee-bf5a-a43e1933d88c",
   "metadata": {},
   "outputs": [
    {
     "data": {
      "text/plain": [
       "['420', '669', '896']"
      ]
     },
     "execution_count": 148,
     "metadata": {},
     "output_type": "execute_result"
    }
   ],
   "source": [
    "re.findall('\\\\d{3}',quote)"
   ]
  },
  {
   "cell_type": "code",
   "execution_count": 150,
   "id": "2c827db6-1982-4303-9f5b-9dc947455b93",
   "metadata": {},
   "outputs": [
    {
     "data": {
      "text/plain": [
       "['420', '669', '896']"
      ]
     },
     "execution_count": 150,
     "metadata": {},
     "output_type": "execute_result"
    }
   ],
   "source": [
    "re.findall('[0-9]{3}',quote)"
   ]
  },
  {
   "cell_type": "code",
   "execution_count": 152,
   "id": "d36430ca-c2f3-4ccf-98c6-5acbbb966f96",
   "metadata": {},
   "outputs": [
    {
     "data": {
      "text/plain": [
       "['M',\n",
       " 'y',\n",
       " ' ',\n",
       " 'n',\n",
       " 'a',\n",
       " 'm',\n",
       " 'e',\n",
       " ' ',\n",
       " 'i',\n",
       " 's',\n",
       " ' ',\n",
       " 'G',\n",
       " 'e',\n",
       " 'o',\n",
       " 'r',\n",
       " 'g',\n",
       " 'e',\n",
       " '.',\n",
       " ' ',\n",
       " 'M',\n",
       " 'a',\n",
       " ' ',\n",
       " 'p',\n",
       " 'h',\n",
       " 'o',\n",
       " 'o',\n",
       " 'n',\n",
       " 'e',\n",
       " ' ',\n",
       " 'n',\n",
       " 'u',\n",
       " 'm',\n",
       " 'b',\n",
       " 'a',\n",
       " ' ',\n",
       " 'i',\n",
       " 'z',\n",
       " ' ',\n",
       " '-',\n",
       " '-',\n",
       " '.',\n",
       " ' ',\n",
       " 'M',\n",
       " 'y',\n",
       " ' ',\n",
       " 'e',\n",
       " 'm',\n",
       " 'a',\n",
       " 'i',\n",
       " 'l',\n",
       " ' ',\n",
       " 'i',\n",
       " 's',\n",
       " ' ',\n",
       " 'n',\n",
       " 'o',\n",
       " 'o',\n",
       " 'b',\n",
       " 'm',\n",
       " 'a',\n",
       " 's',\n",
       " 't',\n",
       " 'e',\n",
       " 'r',\n",
       " '@',\n",
       " 'g',\n",
       " 'm',\n",
       " 'a',\n",
       " 'i',\n",
       " 'l',\n",
       " '.',\n",
       " 'c',\n",
       " 'o',\n",
       " 'm']"
      ]
     },
     "execution_count": 152,
     "metadata": {},
     "output_type": "execute_result"
    }
   ],
   "source": [
    "re.findall('\\\\D',quote)"
   ]
  },
  {
   "cell_type": "code",
   "execution_count": 154,
   "id": "cfd623e1-0799-4194-9f0f-93119784addb",
   "metadata": {},
   "outputs": [
    {
     "data": {
      "text/plain": [
       "['M',\n",
       " 'y',\n",
       " 'n',\n",
       " 'a',\n",
       " 'm',\n",
       " 'e',\n",
       " 'i',\n",
       " 's',\n",
       " 'G',\n",
       " 'e',\n",
       " 'o',\n",
       " 'r',\n",
       " 'g',\n",
       " 'e',\n",
       " 'M',\n",
       " 'a',\n",
       " 'p',\n",
       " 'h',\n",
       " 'o',\n",
       " 'o',\n",
       " 'n',\n",
       " 'e',\n",
       " 'n',\n",
       " 'u',\n",
       " 'm',\n",
       " 'b',\n",
       " 'a',\n",
       " 'i',\n",
       " 'z',\n",
       " '4',\n",
       " '2',\n",
       " '0',\n",
       " '6',\n",
       " '6',\n",
       " '9',\n",
       " '8',\n",
       " '9',\n",
       " '6',\n",
       " '4',\n",
       " 'M',\n",
       " 'y',\n",
       " 'e',\n",
       " 'm',\n",
       " 'a',\n",
       " 'i',\n",
       " 'l',\n",
       " 'i',\n",
       " 's',\n",
       " 'n',\n",
       " 'o',\n",
       " 'o',\n",
       " 'b',\n",
       " 'm',\n",
       " 'a',\n",
       " 's',\n",
       " 't',\n",
       " 'e',\n",
       " 'r',\n",
       " '6',\n",
       " '9',\n",
       " 'g',\n",
       " 'm',\n",
       " 'a',\n",
       " 'i',\n",
       " 'l',\n",
       " 'c',\n",
       " 'o',\n",
       " 'm']"
      ]
     },
     "execution_count": 154,
     "metadata": {},
     "output_type": "execute_result"
    }
   ],
   "source": [
    "# \\\\w - takes out all white spaces, signs and symbols excepts alphanumericals\n",
    "re.findall('\\\\w',quote)"
   ]
  },
  {
   "cell_type": "code",
   "execution_count": 156,
   "id": "bab55e8f-d4d6-42b8-8f8b-569de6b36a23",
   "metadata": {},
   "outputs": [
    {
     "data": {
      "text/plain": [
       "[' ',\n",
       " ' ',\n",
       " ' ',\n",
       " '.',\n",
       " ' ',\n",
       " ' ',\n",
       " ' ',\n",
       " ' ',\n",
       " ' ',\n",
       " '-',\n",
       " '-',\n",
       " '.',\n",
       " ' ',\n",
       " ' ',\n",
       " ' ',\n",
       " ' ',\n",
       " '@',\n",
       " '.']"
      ]
     },
     "execution_count": 156,
     "metadata": {},
     "output_type": "execute_result"
    }
   ],
   "source": [
    "# \\\\W - takes out all alphanumericals except spaces, signs and symbols\n",
    "re.findall('\\\\W',quote)"
   ]
  },
  {
   "cell_type": "code",
   "execution_count": 158,
   "id": "5044239d-7afa-4ec1-a9c4-6c1810a19312",
   "metadata": {},
   "outputs": [
    {
     "data": {
      "text/plain": [
       "[' ', ' ', ' ', ' ', ' ', ' ', ' ', ' ', ' ', ' ', ' ', ' ']"
      ]
     },
     "execution_count": 158,
     "metadata": {},
     "output_type": "execute_result"
    }
   ],
   "source": [
    "# \\\\s - takes all elements out except spaces \n",
    "re.findall('\\\\s',quote)"
   ]
  },
  {
   "cell_type": "code",
   "execution_count": 160,
   "id": "2effb0e3-23f2-4998-8cba-9fea8112ca52",
   "metadata": {},
   "outputs": [
    {
     "data": {
      "text/plain": [
       "['M',\n",
       " 'y',\n",
       " 'n',\n",
       " 'a',\n",
       " 'm',\n",
       " 'e',\n",
       " 'i',\n",
       " 's',\n",
       " 'G',\n",
       " 'e',\n",
       " 'o',\n",
       " 'r',\n",
       " 'g',\n",
       " 'e',\n",
       " '.',\n",
       " 'M',\n",
       " 'a',\n",
       " 'p',\n",
       " 'h',\n",
       " 'o',\n",
       " 'o',\n",
       " 'n',\n",
       " 'e',\n",
       " 'n',\n",
       " 'u',\n",
       " 'm',\n",
       " 'b',\n",
       " 'a',\n",
       " 'i',\n",
       " 'z',\n",
       " '4',\n",
       " '2',\n",
       " '0',\n",
       " '-',\n",
       " '6',\n",
       " '6',\n",
       " '9',\n",
       " '-',\n",
       " '8',\n",
       " '9',\n",
       " '6',\n",
       " '4',\n",
       " '.',\n",
       " 'M',\n",
       " 'y',\n",
       " 'e',\n",
       " 'm',\n",
       " 'a',\n",
       " 'i',\n",
       " 'l',\n",
       " 'i',\n",
       " 's',\n",
       " 'n',\n",
       " 'o',\n",
       " 'o',\n",
       " 'b',\n",
       " 'm',\n",
       " 'a',\n",
       " 's',\n",
       " 't',\n",
       " 'e',\n",
       " 'r',\n",
       " '6',\n",
       " '9',\n",
       " '@',\n",
       " 'g',\n",
       " 'm',\n",
       " 'a',\n",
       " 'i',\n",
       " 'l',\n",
       " '.',\n",
       " 'c',\n",
       " 'o',\n",
       " 'm']"
      ]
     },
     "execution_count": 160,
     "metadata": {},
     "output_type": "execute_result"
    }
   ],
   "source": [
    "# \\\\S - only takes all white spaces out  \n",
    "re.findall('\\\\S',quote)"
   ]
  },
  {
   "cell_type": "code",
   "execution_count": 162,
   "id": "85fcd72f-573c-40c0-bb13-071e47e1dce8",
   "metadata": {},
   "outputs": [
    {
     "data": {
      "text/plain": [
       "['M']"
      ]
     },
     "execution_count": 162,
     "metadata": {},
     "output_type": "execute_result"
    }
   ],
   "source": [
    "# \\\\A ~ ^\n",
    "# \\\\Z ~ $\n",
    "re.findall('\\\\A[A-Za-z]',quote)"
   ]
  },
  {
   "cell_type": "code",
   "execution_count": 164,
   "id": "f725d8ae-efb6-423f-8cfa-729f082cd7a4",
   "metadata": {},
   "outputs": [
    {
     "data": {
      "text/plain": [
       "['m']"
      ]
     },
     "execution_count": 164,
     "metadata": {},
     "output_type": "execute_result"
    }
   ],
   "source": [
    "re.findall('[A-Za-z]\\\\Z',quote)"
   ]
  },
  {
   "cell_type": "code",
   "execution_count": 166,
   "id": "628cce9a-e06c-47aa-ac07-4e3cf62d7f62",
   "metadata": {},
   "outputs": [
    {
     "data": {
      "text/plain": [
       "[]"
      ]
     },
     "execution_count": 166,
     "metadata": {},
     "output_type": "execute_result"
    }
   ],
   "source": [
    "re.findall('[A-Za-z]\\\\A',quote)"
   ]
  },
  {
   "cell_type": "code",
   "execution_count": 168,
   "id": "3d530414-ded9-444c-9639-26b7e0618eb2",
   "metadata": {},
   "outputs": [
    {
     "data": {
      "text/plain": [
       "[]"
      ]
     },
     "execution_count": 168,
     "metadata": {},
     "output_type": "execute_result"
    }
   ],
   "source": [
    "re.findall('\\\\Z[A-Za-z]',quote)"
   ]
  },
  {
   "cell_type": "code",
   "execution_count": 170,
   "id": "add069d5-2212-4dc1-9d6c-7491885806cb",
   "metadata": {},
   "outputs": [
    {
     "data": {
      "text/plain": [
       "['Matrix', 'Matrix']"
      ]
     },
     "execution_count": 170,
     "metadata": {},
     "output_type": "execute_result"
    }
   ],
   "source": [
    "string = \"I love Matrix is Matrixlove a word?\"\n",
    "\n",
    "re.findall('Matrix',string)"
   ]
  },
  {
   "cell_type": "code",
   "execution_count": 174,
   "id": "e15e4303-e160-4861-9701-6168e1a75a71",
   "metadata": {},
   "outputs": [
    {
     "data": {
      "text/plain": [
       "['Matrix']"
      ]
     },
     "execution_count": 174,
     "metadata": {},
     "output_type": "execute_result"
    }
   ],
   "source": [
    "# \\b - look for the element within the boundry \n",
    "re.findall(r'\\bMatrix\\b',string)"
   ]
  },
  {
   "cell_type": "code",
   "execution_count": 176,
   "id": "dde39803-9e36-44d6-bf2a-b29f0cfdddad",
   "metadata": {},
   "outputs": [
    {
     "data": {
      "text/plain": [
       "['Matrix', 'Matrix']"
      ]
     },
     "execution_count": 176,
     "metadata": {},
     "output_type": "execute_result"
    }
   ],
   "source": [
    "re.findall(r'\\bMatrix',string)"
   ]
  },
  {
   "cell_type": "code",
   "execution_count": 178,
   "id": "022bb1e6-9bd5-4f30-9a2b-01cc366bd7bc",
   "metadata": {},
   "outputs": [
    {
     "data": {
      "text/plain": [
       "[]"
      ]
     },
     "execution_count": 178,
     "metadata": {},
     "output_type": "execute_result"
    }
   ],
   "source": [
    "# \\B - look for non-boundry elements. A space element returns bcuz there is no chara before Matrix \n",
    "re.findall(r'\\BMatrix',string)"
   ]
  },
  {
   "cell_type": "code",
   "execution_count": 180,
   "id": "ce8666bb-7a51-434b-a499-2ab68d915399",
   "metadata": {},
   "outputs": [
    {
     "data": {
      "text/plain": [
       "['atrix', 'atrix']"
      ]
     },
     "execution_count": 180,
     "metadata": {},
     "output_type": "execute_result"
    }
   ],
   "source": [
    "# \\B - It returns atrix bcuz boundry is set at M hence only return 'atrix'\n",
    "re.findall(r'\\Batrix',string)"
   ]
  },
  {
   "cell_type": "code",
   "execution_count": 182,
   "id": "5a24427a-e711-4310-a330-924d6b87bb33",
   "metadata": {},
   "outputs": [
    {
     "data": {
      "text/plain": [
       "['ove', 'ove']"
      ]
     },
     "execution_count": 182,
     "metadata": {},
     "output_type": "execute_result"
    }
   ],
   "source": [
    "re.findall(r'\\Bove',string)"
   ]
  },
  {
   "cell_type": "code",
   "execution_count": null,
   "id": "ba57918a-d194-4aa1-9824-7877892191b9",
   "metadata": {},
   "outputs": [],
   "source": []
  },
  {
   "cell_type": "markdown",
   "id": "76cde0ef-a1e5-4fae-b94a-d1601d3c911a",
   "metadata": {},
   "source": [
    "Regex Use Cases"
   ]
  },
  {
   "cell_type": "code",
   "execution_count": 185,
   "id": "61c6529c-1528-4638-b055-19e0a41255b8",
   "metadata": {},
   "outputs": [],
   "source": [
    "random_text = '''\n",
    "My name is Mr. Neo. My phone number is 123-456-7890. My email is ChosenOne@gmail.com\n",
    "My name is Mr. Morphius. My phone number is 413-234-2568. My email is CoolGuy@yahoo.com. \n",
    "My name is Mrs. Trinity. My phone number is 285-036-8215. My email is ChosenOnesGirl1@apple.com.\n",
    "'''"
   ]
  },
  {
   "cell_type": "code",
   "execution_count": 189,
   "id": "c0350a48-b07a-4024-9bbb-9c09318e21ed",
   "metadata": {},
   "outputs": [
    {
     "data": {
      "text/plain": [
       "['@g', '@y', '@a']"
      ]
     },
     "execution_count": 189,
     "metadata": {},
     "output_type": "execute_result"
    }
   ],
   "source": [
    "re.findall('@[a-z]',random_text)"
   ]
  },
  {
   "cell_type": "code",
   "execution_count": 187,
   "id": "d14493a5-f71e-4377-8017-968e8a7cd958",
   "metadata": {},
   "outputs": [
    {
     "data": {
      "text/plain": [
       "['@gmail', '@yahoo', '@apple']"
      ]
     },
     "execution_count": 187,
     "metadata": {},
     "output_type": "execute_result"
    }
   ],
   "source": [
    "re.findall('@[a-z]+',random_text)"
   ]
  },
  {
   "cell_type": "code",
   "execution_count": 191,
   "id": "65a89131-e435-45e1-81d0-80a49eee5810",
   "metadata": {},
   "outputs": [
    {
     "data": {
      "text/plain": [
       "['gmail', 'yahoo', 'apple']"
      ]
     },
     "execution_count": 191,
     "metadata": {},
     "output_type": "execute_result"
    }
   ],
   "source": [
    "re.findall('@([a-z]+)',random_text)"
   ]
  },
  {
   "cell_type": "code",
   "execution_count": 195,
   "id": "78faaf3e-f54e-4764-89ab-89406566b261",
   "metadata": {},
   "outputs": [
    {
     "data": {
      "text/plain": [
       "['@gmail.com', '@yahoo.com.', '@apple.com.']"
      ]
     },
     "execution_count": 195,
     "metadata": {},
     "output_type": "execute_result"
    }
   ],
   "source": [
    "re.findall('@[\\\\w\\\\.]+',random_text)"
   ]
  },
  {
   "cell_type": "code",
   "execution_count": 197,
   "id": "1dade2e7-6205-46a6-9847-86e67044c2cd",
   "metadata": {},
   "outputs": [
    {
     "data": {
      "text/plain": [
       "['gmail.com', 'yahoo.com.', 'apple.com.']"
      ]
     },
     "execution_count": 197,
     "metadata": {},
     "output_type": "execute_result"
    }
   ],
   "source": [
    "re.findall('@([\\\\w\\\\.]+)',random_text)"
   ]
  },
  {
   "cell_type": "code",
   "execution_count": 199,
   "id": "ecde0b5b-50db-45c7-aab2-bb51ce322521",
   "metadata": {},
   "outputs": [
    {
     "data": {
      "text/plain": [
       "['ChosenOne@gmail.com', 'CoolGuy@yahoo.com.', 'ChosenOnesGirl1@apple.com.']"
      ]
     },
     "execution_count": 199,
     "metadata": {},
     "output_type": "execute_result"
    }
   ],
   "source": [
    "re.findall('[\\\\w+]+@[\\\\w\\\\.]+',random_text)"
   ]
  },
  {
   "cell_type": "code",
   "execution_count": 201,
   "id": "18d0ae2d-b348-4899-b675-12383c4d8a5b",
   "metadata": {},
   "outputs": [
    {
     "data": {
      "text/plain": [
       "['ChosenOne@gmail.com', 'CoolGuy@yahoo.com.']"
      ]
     },
     "execution_count": 201,
     "metadata": {},
     "output_type": "execute_result"
    }
   ],
   "source": [
    "re.findall('[a-zA-Z]+@[\\\\w\\\\.]+',random_text)"
   ]
  },
  {
   "cell_type": "code",
   "execution_count": 203,
   "id": "ca797e86-834a-443a-aeac-34a5ee1ecb7c",
   "metadata": {},
   "outputs": [
    {
     "data": {
      "text/plain": [
       "['1',\n",
       " '2',\n",
       " '3',\n",
       " '4',\n",
       " '5',\n",
       " '6',\n",
       " '7',\n",
       " '8',\n",
       " '9',\n",
       " '0',\n",
       " '4',\n",
       " '1',\n",
       " '3',\n",
       " '2',\n",
       " '3',\n",
       " '4',\n",
       " '2',\n",
       " '5',\n",
       " '6',\n",
       " '8',\n",
       " '2',\n",
       " '8',\n",
       " '5',\n",
       " '0',\n",
       " '3',\n",
       " '6',\n",
       " '8',\n",
       " '2',\n",
       " '1',\n",
       " '5',\n",
       " '1']"
      ]
     },
     "execution_count": 203,
     "metadata": {},
     "output_type": "execute_result"
    }
   ],
   "source": [
    "re.findall('\\\\d',random_text)"
   ]
  },
  {
   "cell_type": "code",
   "execution_count": 205,
   "id": "3eae6515-a644-42a2-bdaf-3f5065e6b7db",
   "metadata": {},
   "outputs": [
    {
     "data": {
      "text/plain": [
       "['123', '456', '789', '413', '234', '256', '285', '036', '821']"
      ]
     },
     "execution_count": 205,
     "metadata": {},
     "output_type": "execute_result"
    }
   ],
   "source": [
    "re.findall('\\\\d{3}',random_text)"
   ]
  },
  {
   "cell_type": "code",
   "execution_count": 207,
   "id": "8daa475a-79ee-4ab5-9d2a-6727ece6e2b4",
   "metadata": {},
   "outputs": [
    {
     "data": {
      "text/plain": [
       "['123-456-7890', '413-234-2568', '285-036-8215']"
      ]
     },
     "execution_count": 207,
     "metadata": {},
     "output_type": "execute_result"
    }
   ],
   "source": [
    "re.findall('\\\\d{3}-\\\\d{3}-\\\\d{4}',random_text)"
   ]
  },
  {
   "cell_type": "code",
   "execution_count": 211,
   "id": "8e3f5713-a17d-4f03-a140-e97023ed5243",
   "metadata": {},
   "outputs": [
    {
     "name": "stdout",
     "output_type": "stream",
     "text": [
      "['gmail.com']\n",
      "['yahoo.com.']\n",
      "['apple.com.']\n"
     ]
    }
   ],
   "source": [
    "ma_list = ['ChosenOne@gmail.com', 'CoolGuy@yahoo.com.', 'ChosenOnesGirl1@apple.com.']\n",
    "\n",
    "for email in ma_list:\n",
    "    print(re.findall('@([\\\\w\\\\.]+)',email))"
   ]
  },
  {
   "cell_type": "code",
   "execution_count": 213,
   "id": "4ebef507-a064-41da-8b35-72d712e096ac",
   "metadata": {},
   "outputs": [
    {
     "name": "stdout",
     "output_type": "stream",
     "text": [
      "[['gmail.com'], ['yahoo.com.'], ['apple.com.']]\n"
     ]
    }
   ],
   "source": [
    "# List comprehension\n",
    "\n",
    "domain_list = [re.findall('@([\\\\w\\\\.]+)',email) for email in ma_list]\n",
    "\n",
    "print(domain_list)\n",
    "# This will only print out a list within a list unless indexed "
   ]
  },
  {
   "cell_type": "code",
   "execution_count": 215,
   "id": "e9a6aea9-c162-4859-ad0e-914ad01311c6",
   "metadata": {},
   "outputs": [
    {
     "name": "stdout",
     "output_type": "stream",
     "text": [
      "['gmail.com', 'yahoo.com.', 'apple.com.']\n"
     ]
    }
   ],
   "source": [
    "domain_list = [re.findall('@([\\\\w\\\\.]+)',email)[0] for email in ma_list]\n",
    "\n",
    "print(domain_list)"
   ]
  },
  {
   "cell_type": "code",
   "execution_count": null,
   "id": "325466c1-49a2-487c-b93e-f3c7e99ec67c",
   "metadata": {},
   "outputs": [],
   "source": []
  }
 ],
 "metadata": {
  "kernelspec": {
   "display_name": "Python 3 (ipykernel)",
   "language": "python",
   "name": "python3"
  },
  "language_info": {
   "codemirror_mode": {
    "name": "ipython",
    "version": 3
   },
   "file_extension": ".py",
   "mimetype": "text/x-python",
   "name": "python",
   "nbconvert_exporter": "python",
   "pygments_lexer": "ipython3",
   "version": "3.12.4"
  }
 },
 "nbformat": 4,
 "nbformat_minor": 5
}
