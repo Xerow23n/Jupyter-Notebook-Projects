{
 "cells": [
  {
   "cell_type": "markdown",
   "id": "c5da3099-ca3d-4708-b58c-b85086174472",
   "metadata": {},
   "source": [
    "Variables in Python"
   ]
  },
  {
   "cell_type": "code",
   "execution_count": 2,
   "id": "715d5938-db6b-43b0-a66a-37b090223c0e",
   "metadata": {},
   "outputs": [
    {
     "name": "stdout",
     "output_type": "stream",
     "text": [
      "x\n"
     ]
    }
   ],
   "source": [
    "x = 25\n",
    "\n",
    "print(\"x\")"
   ]
  },
  {
   "cell_type": "code",
   "execution_count": 4,
   "id": "22ea153e-ff13-4308-9ae5-acbe78944ad8",
   "metadata": {},
   "outputs": [
    {
     "name": "stdout",
     "output_type": "stream",
     "text": [
      "25\n"
     ]
    }
   ],
   "source": [
    "print(x)\n"
   ]
  },
  {
   "cell_type": "code",
   "execution_count": 6,
   "id": "9b786953-8da1-4f4d-a115-1ee54b0eeb8f",
   "metadata": {},
   "outputs": [
    {
     "data": {
      "text/plain": [
       "int"
      ]
     },
     "execution_count": 6,
     "metadata": {},
     "output_type": "execute_result"
    }
   ],
   "source": [
    "type(x)"
   ]
  },
  {
   "cell_type": "code",
   "execution_count": 8,
   "id": "7d5bd927-e9cb-4047-a4a8-c2139fe12a57",
   "metadata": {},
   "outputs": [
    {
     "name": "stdout",
     "output_type": "stream",
     "text": [
      "Mint ice cream\n"
     ]
    }
   ],
   "source": [
    "y = 'Mint ice cream'\n",
    "\n",
    "print(y)"
   ]
  },
  {
   "cell_type": "code",
   "execution_count": 10,
   "id": "b9950bc3-1261-486a-acbd-d831ff6fe49c",
   "metadata": {},
   "outputs": [
    {
     "data": {
      "text/plain": [
       "str"
      ]
     },
     "execution_count": 10,
     "metadata": {},
     "output_type": "execute_result"
    }
   ],
   "source": [
    "type(y)\n"
   ]
  },
  {
   "cell_type": "code",
   "execution_count": 14,
   "id": "ca6843ff-8f36-47a6-aa34-b754e7be3630",
   "metadata": {},
   "outputs": [
    {
     "name": "stdout",
     "output_type": "stream",
     "text": [
      "Mint ice cream\n"
     ]
    }
   ],
   "source": [
    "y = 'chocolate'\n",
    "\n",
    "y = 'Mint ice cream'\n",
    "\n",
    "print(y)"
   ]
  },
  {
   "cell_type": "code",
   "execution_count": 18,
   "id": "bb1a94ca-b0de-4c15-80fb-22125a3440f0",
   "metadata": {},
   "outputs": [
    {
     "name": "stdout",
     "output_type": "stream",
     "text": [
      "chocolate\n"
     ]
    }
   ],
   "source": [
    "Y = 'chocolate'\n",
    "\n",
    "y = 'Mint ice cream'\n",
    "\n",
    "print(Y)"
   ]
  },
  {
   "cell_type": "code",
   "execution_count": 20,
   "id": "40e4a584-fb63-4cdd-b64f-e9fcca094217",
   "metadata": {},
   "outputs": [
    {
     "name": "stdout",
     "output_type": "stream",
     "text": [
      "gelato\n",
      "DMC\n",
      "Vigil\n"
     ]
    }
   ],
   "source": [
    "x,y,z = 'gelato','DMC','Vigil'\n",
    "\n",
    "print(x)\n",
    "print(y)\n",
    "print(z)"
   ]
  },
  {
   "cell_type": "code",
   "execution_count": 22,
   "id": "7bbe47c7-7a54-4e2a-aeee-d218494e0e00",
   "metadata": {},
   "outputs": [
    {
     "name": "stdout",
     "output_type": "stream",
     "text": [
      "Root beer float\n",
      "Root beer float\n",
      "Root beer float\n"
     ]
    }
   ],
   "source": [
    "x = y = z = 'Root beer float'\n",
    "\n",
    "print(x)\n",
    "print(y)\n",
    "print(z)"
   ]
  },
  {
   "cell_type": "code",
   "execution_count": 24,
   "id": "7182164c-a524-4844-b57c-13ea8b4ba4b0",
   "metadata": {},
   "outputs": [
    {
     "name": "stdout",
     "output_type": "stream",
     "text": [
      "gelato\n",
      "DMC\n",
      "Vigil\n"
     ]
    }
   ],
   "source": [
    "Stuffs_random = ['gelato','DMC','Vigil']\n",
    "\n",
    "x,y,z = Stuffs_random\n",
    "\n",
    "print(x)\n",
    "print(y)\n",
    "print(z)"
   ]
  },
  {
   "cell_type": "code",
   "execution_count": null,
   "id": "ac303969-1690-42fa-96ec-b296ff01dd82",
   "metadata": {},
   "outputs": [],
   "source": [
    "# camel case\n",
    "\n",
    "#Test variable case\n",
    "\n",
    "testVariableCase = 'Vanilla swirl'"
   ]
  },
  {
   "cell_type": "code",
   "execution_count": null,
   "id": "df5192d7-88ef-41b9-a20c-4a9e1a59a744",
   "metadata": {},
   "outputs": [],
   "source": [
    "# pascal case\n",
    "\n",
    "#Test variable case\n",
    "\n",
    "TestVariableCase = 'Vanilla swirl'"
   ]
  },
  {
   "cell_type": "code",
   "execution_count": null,
   "id": "6a15ee46-2b21-4aa6-af77-fc458aaf65bd",
   "metadata": {},
   "outputs": [],
   "source": [
    "# snake case\n",
    "\n",
    "#Test variable case\n",
    "\n",
    "test_variable_case = 'Vanilla swirl'"
   ]
  },
  {
   "cell_type": "code",
   "execution_count": 26,
   "id": "6fa65de4-b15f-4235-9cc0-99b34e91038d",
   "metadata": {},
   "outputs": [],
   "source": [
    "testvar = 'Vanilla swirl'\n",
    "test_var = 'Vanilla swirl'\n",
    "_test_var = 'Vanilla swirl'\n",
    "testVar = 'Vanilla swirl'\n",
    "Testvar = 'Vanilla swirl'\n",
    "TestVar = 'Vanilla swirl'\n",
    "testvar2 = 'Vanilla swirl'"
   ]
  },
  {
   "cell_type": "code",
   "execution_count": null,
   "id": "853b2c37-baff-43a3-8195-f290c55e4d54",
   "metadata": {},
   "outputs": [],
   "source": [
    "#invalid naming\n",
    "\n",
    "2testvar = 'Vanilla swirl'\n",
    "test-var2 = 'Vanilla swirl'\n",
    "test var = 'Vanilla swirl'\n",
    "test,var = 'Vanilla swirl'"
   ]
  },
  {
   "cell_type": "code",
   "execution_count": 28,
   "id": "4a4f85f7-f040-4af2-804e-544dbe16eb7a",
   "metadata": {},
   "outputs": [
    {
     "name": "stdout",
     "output_type": "stream",
     "text": [
      "Ice Cream is my favourite.\n"
     ]
    }
   ],
   "source": [
    "x = 'Ice Cream is my favourite' + '.'\n",
    "\n",
    "print(x)\n"
   ]
  },
  {
   "cell_type": "code",
   "execution_count": 30,
   "id": "eb60fc3f-48d3-40d3-8e1f-47216947a0ad",
   "metadata": {},
   "outputs": [
    {
     "ename": "TypeError",
     "evalue": "can only concatenate str (not \"int\") to str",
     "output_type": "error",
     "traceback": [
      "\u001b[1;31m---------------------------------------------------------------------------\u001b[0m",
      "\u001b[1;31mTypeError\u001b[0m                                 Traceback (most recent call last)",
      "Cell \u001b[1;32mIn[30], line 1\u001b[0m\n\u001b[1;32m----> 1\u001b[0m x \u001b[38;5;241m=\u001b[39m \u001b[38;5;124m'\u001b[39m\u001b[38;5;124mIce Cream is my favourite\u001b[39m\u001b[38;5;124m'\u001b[39m \u001b[38;5;241m+\u001b[39m \u001b[38;5;241m2\u001b[39m\n\u001b[0;32m      3\u001b[0m \u001b[38;5;28mprint\u001b[39m(x)\n",
      "\u001b[1;31mTypeError\u001b[0m: can only concatenate str (not \"int\") to str"
     ]
    }
   ],
   "source": [
    "x = 'Ice Cream is my favourite' + 2\n",
    "\n",
    "print(x)\n"
   ]
  },
  {
   "cell_type": "code",
   "execution_count": 32,
   "id": "2e79b1ec-3c3b-44b1-aa91-cf1e010b0ed4",
   "metadata": {},
   "outputs": [
    {
     "name": "stdout",
     "output_type": "stream",
     "text": [
      "69\n"
     ]
    }
   ],
   "source": [
    "y = 60 + 9\n",
    "print(y)"
   ]
  },
  {
   "cell_type": "code",
   "execution_count": 36,
   "id": "31126892-d659-47de-a8b3-93db1e0c656d",
   "metadata": {},
   "outputs": [
    {
     "name": "stdout",
     "output_type": "stream",
     "text": [
      "Ice Cream is my favourite.\n"
     ]
    }
   ],
   "source": [
    "x = \"Ice Cream\"\n",
    "y = \" is\"\n",
    "z = \" my favourite.\"\n",
    "\n",
    "print (x+y+z)"
   ]
  },
  {
   "cell_type": "code",
   "execution_count": 38,
   "id": "c1c6a24f-c719-4838-9f37-b8c3b480655c",
   "metadata": {},
   "outputs": [
    {
     "name": "stdout",
     "output_type": "stream",
     "text": [
      "9\n"
     ]
    }
   ],
   "source": [
    "x = 1\n",
    "y = 3\n",
    "z = 5\n",
    "\n",
    "print (x+y+z)"
   ]
  },
  {
   "cell_type": "code",
   "execution_count": 40,
   "id": "54e8ac2a-6a45-48a8-8075-458d44f104d4",
   "metadata": {},
   "outputs": [
    {
     "name": "stdout",
     "output_type": "stream",
     "text": [
      "Ice Cream 3\n"
     ]
    }
   ],
   "source": [
    "x = 'Ice Cream'\n",
    "y = 3\n",
    "\n",
    "\n",
    "print (x,y)"
   ]
  },
  {
   "cell_type": "code",
   "execution_count": null,
   "id": "4755bf35-f7cf-4954-acad-64269221d74e",
   "metadata": {},
   "outputs": [],
   "source": []
  }
 ],
 "metadata": {
  "kernelspec": {
   "display_name": "Python 3 (ipykernel)",
   "language": "python",
   "name": "python3"
  },
  "language_info": {
   "codemirror_mode": {
    "name": "ipython",
    "version": 3
   },
   "file_extension": ".py",
   "mimetype": "text/x-python",
   "name": "python",
   "nbconvert_exporter": "python",
   "pygments_lexer": "ipython3",
   "version": "3.12.4"
  }
 },
 "nbformat": 4,
 "nbformat_minor": 5
}
