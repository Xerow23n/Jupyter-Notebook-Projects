{
 "cells": [
  {
   "cell_type": "code",
   "execution_count": 1,
   "id": "d679155d-e997-4d79-80ef-05f204a3e575",
   "metadata": {},
   "outputs": [],
   "source": [
    "import turtle"
   ]
  },
  {
   "cell_type": "code",
   "execution_count": null,
   "id": "1a0456b9-8412-4856-ad80-a6e5e49b1431",
   "metadata": {},
   "outputs": [],
   "source": [
    "t = turtle.Turtle()\n",
    "t.screen.bgcolor('black')\n",
    "t.pensize(3)\n",
    "t.color('green')\n",
    "t.left(90)\n",
    "t.backward(180)\n",
    "t.speed(300)\n",
    "t.shape('turtle')\n",
    "\n",
    "def tree(i):\n",
    "    if i < 15:\n",
    "        return\n",
    "    else:\n",
    "        t.forward(i)\n",
    "        t.color('green')\n",
    "        t.circle(2)\n",
    "        t.left(30)\n",
    "        tree(3 * i/4)\n",
    "        t.right(60)\n",
    "        tree(3 * i/4)\n",
    "        t.left(30)\n",
    "        t.backward(i)\n",
    "tree(120)\n",
    "turtle.done()\n",
    "        "
   ]
  },
  {
   "cell_type": "code",
   "execution_count": null,
   "id": "89171245-1ed8-44b7-bb97-ab0b837a7c83",
   "metadata": {},
   "outputs": [],
   "source": []
  },
  {
   "cell_type": "code",
   "execution_count": null,
   "id": "859bad32-4496-4e41-ac13-0cabd84a89b7",
   "metadata": {},
   "outputs": [],
   "source": []
  },
  {
   "cell_type": "code",
   "execution_count": null,
   "id": "e675c4dd-709c-4b83-b057-c327f6d561c4",
   "metadata": {},
   "outputs": [],
   "source": []
  },
  {
   "cell_type": "code",
   "execution_count": null,
   "id": "768f5ae7-52ae-4673-8cf5-a92d50459b79",
   "metadata": {},
   "outputs": [],
   "source": []
  }
 ],
 "metadata": {
  "kernelspec": {
   "display_name": "Python 3 (ipykernel)",
   "language": "python",
   "name": "python3"
  },
  "language_info": {
   "codemirror_mode": {
    "name": "ipython",
    "version": 3
   },
   "file_extension": ".py",
   "mimetype": "text/x-python",
   "name": "python",
   "nbconvert_exporter": "python",
   "pygments_lexer": "ipython3",
   "version": "3.12.4"
  }
 },
 "nbformat": 4,
 "nbformat_minor": 5
}
