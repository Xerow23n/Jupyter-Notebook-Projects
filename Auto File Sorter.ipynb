{
 "cells": [
  {
   "cell_type": "code",
   "execution_count": 1,
   "id": "ee73cf4b-118d-47ca-baca-899c7301e856",
   "metadata": {},
   "outputs": [],
   "source": [
    "#shutil = shell utilities\n",
    "#r = raw string\n",
    "#range(0,3) means 0,1,2"
   ]
  },
  {
   "cell_type": "code",
   "execution_count": 1,
   "id": "77c5a8f7-4e53-42ad-89d6-6c4e1ced7cca",
   "metadata": {},
   "outputs": [
    {
     "name": "stdout",
     "output_type": "stream",
     "text": [
      "C:/Users/User/Documents/New_lyfe/Pytan/Xlsx Files\n",
      "C:/Users/User/Documents/New_lyfe/Pytan/Image files\n",
      "C:/Users/User/Documents/New_lyfe/Pytan/Text files\n"
     ]
    }
   ],
   "source": [
    "import os, shutil\n",
    "path = r'C:/Users/User/Documents/New_lyfe/Pytan/'\n",
    "file_name = os.listdir(path)\n",
    "folder_names = ['Xlsx Files','Image files','Text files']\n",
    "\n",
    "for loop in range(0,3):\n",
    "   if not os.path.exists(path + folder_names[loop]):\n",
    "       print(path + folder_names[loop])\n",
    "       os.makedirs(path + folder_names[loop])\n",
    "\n",
    "for file in file_name:\n",
    "    if '.xlsx' in file and not os.path.exists(path + 'Xlsx Files/' + file):\n",
    "        shutil.move(path + file, path + 'Xlsx Files/' + file)\n",
    "    elif '.png' in file and not os.path.exists(path + 'Image files/' + file):\n",
    "        shutil.move(path + file, path + 'Image files/' + file)\n",
    "    elif '.jpg' in file and not os.path.exists(path + 'Image files/' + file):\n",
    "        shutil.move(path + file, path + 'Image files/' + file)\n",
    "    elif '.txt' in file and not os.path.exists(path + 'Text files/' + file):\n",
    "        shutil.move(path + file, path + 'Text files/' + file)"
   ]
  },
  {
   "cell_type": "code",
   "execution_count": null,
   "id": "9cde82a7-8985-4701-acbe-ed37bd8d105d",
   "metadata": {},
   "outputs": [],
   "source": []
  },
  {
   "cell_type": "code",
   "execution_count": null,
   "id": "a049ed4f-63bd-4e60-912a-abdba3e83a3d",
   "metadata": {},
   "outputs": [],
   "source": []
  },
  {
   "cell_type": "code",
   "execution_count": null,
   "id": "2abb7196-21f4-4f62-ae43-fa54d684fec0",
   "metadata": {},
   "outputs": [],
   "source": []
  },
  {
   "cell_type": "code",
   "execution_count": null,
   "id": "c1aaa47a-33d4-42e6-bde4-1c45e7c705e6",
   "metadata": {},
   "outputs": [],
   "source": []
  },
  {
   "cell_type": "code",
   "execution_count": null,
   "id": "67f89b74-9133-44f2-9dc9-79d82f9d557f",
   "metadata": {},
   "outputs": [],
   "source": []
  },
  {
   "cell_type": "code",
   "execution_count": null,
   "id": "a8c79858-31d7-4a84-b7df-f1f21d19f3e2",
   "metadata": {},
   "outputs": [],
   "source": []
  }
 ],
 "metadata": {
  "kernelspec": {
   "display_name": "Python 3 (ipykernel)",
   "language": "python",
   "name": "python3"
  },
  "language_info": {
   "codemirror_mode": {
    "name": "ipython",
    "version": 3
   },
   "file_extension": ".py",
   "mimetype": "text/x-python",
   "name": "python",
   "nbconvert_exporter": "python",
   "pygments_lexer": "ipython3",
   "version": "3.12.4"
  }
 },
 "nbformat": 4,
 "nbformat_minor": 5
}
