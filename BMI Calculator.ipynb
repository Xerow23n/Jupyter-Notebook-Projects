{
 "cells": [
  {
   "cell_type": "code",
   "execution_count": null,
   "id": "e1f2c15c-6570-4e6b-8254-c48fb6ce1230",
   "metadata": {},
   "outputs": [],
   "source": [
    "# BMI = weight in kg / (height in m)^2 \n",
    "# Underweight < 16\n",
    "# Thin 16-18.5\n",
    "# Normal\t18.5 - 25\n",
    "# Overweight 25 - 30\n",
    "# Obese \t30 - 35\n",
    "# Severely Obese 35 - 40\n",
    "# Morbidly Obese > 40 "
   ]
  },
  {
   "cell_type": "code",
   "execution_count": 82,
   "id": "58d7b8c4-8912-457a-ad75-ad98af908c89",
   "metadata": {},
   "outputs": [
    {
     "name": "stdin",
     "output_type": "stream",
     "text": [
      "Enter your name:  ss\n",
      "Enter your weight in kg:  165\n",
      "Enter your height in m:  1.74\n"
     ]
    },
    {
     "name": "stdout",
     "output_type": "stream",
     "text": [
      "54.49861276258422\n",
      "ss, You are morbidly obese. You weight like 28 slabs of stones !!!\n"
     ]
    }
   ],
   "source": [
    "Name = input('Enter your name: ')\n",
    "\n",
    "Weight = float(input('Enter your weight in kg: '))\n",
    "\n",
    "Height = float(input('Enter your height in m: '))\n",
    "\n",
    "BMI = Weight / (Height**2) \n",
    "\n",
    "print(BMI)\n",
    "\n",
    "if BMI>0:\n",
    "    if(BMI<16):\n",
    "        print(Name +\", You are underweight. Eat more food and don't die of anorexia OWO.\")\n",
    "    elif(BMI<18.5):\n",
    "        print(Name +', You are thin. Get more food intake lah haiya!!')\n",
    "    elif(BMI<25):\n",
    "        print(Name +', You are normal. Good, Keep it up.')\n",
    "    elif(BMI<30):\n",
    "        print(Name +', You are overweight. Time to hit the gym bud.')\n",
    "    elif(BMI<35):\n",
    "        print(Name +', You are obese. Get your lazy ass up and stop eating too much fatty.')\n",
    "    elif(BMI<40):\n",
    "        print(Name +', You are severely obese. Just like ur mama, get yo ass up and hit the gym!')\n",
    "    else:\n",
    "        print(Name +', You are morbidly obese. You weight like 28 slabs of stones !!!')\n",
    "else:\n",
    "    print('Enter valid inputs blyat!')"
   ]
  },
  {
   "cell_type": "code",
   "execution_count": null,
   "id": "5829270a-ecfd-4c5f-b8ca-b50747702a40",
   "metadata": {},
   "outputs": [],
   "source": []
  },
  {
   "cell_type": "code",
   "execution_count": null,
   "id": "ca8f9b04-2446-44c8-860f-4c637692266c",
   "metadata": {},
   "outputs": [],
   "source": []
  },
  {
   "cell_type": "code",
   "execution_count": null,
   "id": "5a717bae-11ae-462f-98cb-f836aaee4708",
   "metadata": {},
   "outputs": [],
   "source": []
  },
  {
   "cell_type": "code",
   "execution_count": null,
   "id": "4503124a-f316-47dd-bdce-784de15066f7",
   "metadata": {},
   "outputs": [],
   "source": []
  },
  {
   "cell_type": "code",
   "execution_count": null,
   "id": "9a591b63-8e96-4aef-bb88-50c9791235d0",
   "metadata": {},
   "outputs": [],
   "source": []
  },
  {
   "cell_type": "code",
   "execution_count": null,
   "id": "06571ba2-ecda-4ef8-8acb-df8a47aaec2f",
   "metadata": {},
   "outputs": [],
   "source": []
  },
  {
   "cell_type": "code",
   "execution_count": null,
   "id": "dd833967-422f-4606-83ea-126779282a28",
   "metadata": {},
   "outputs": [],
   "source": []
  },
  {
   "cell_type": "code",
   "execution_count": null,
   "id": "bbe94695-7e14-4a69-bba2-79c1a26ac5a2",
   "metadata": {},
   "outputs": [],
   "source": []
  }
 ],
 "metadata": {
  "kernelspec": {
   "display_name": "Python 3 (ipykernel)",
   "language": "python",
   "name": "python3"
  },
  "language_info": {
   "codemirror_mode": {
    "name": "ipython",
    "version": 3
   },
   "file_extension": ".py",
   "mimetype": "text/x-python",
   "name": "python",
   "nbconvert_exporter": "python",
   "pygments_lexer": "ipython3",
   "version": "3.12.4"
  }
 },
 "nbformat": 4,
 "nbformat_minor": 5
}
